{
 "cells": [
  {
   "cell_type": "code",
   "execution_count": 80,
   "metadata": {},
   "outputs": [],
   "source": [
    "import pandas as pd\n",
    "import numpy as np\n",
    "import matplotlib.pyplot as plt\n",
    "from sklearn.model_selection import train_test_split"
   ]
  },
  {
   "cell_type": "code",
   "execution_count": 81,
   "metadata": {},
   "outputs": [],
   "source": [
    "df = pd.read_csv('complete_df_with_predictions.csv')"
   ]
  },
  {
   "cell_type": "code",
   "execution_count": 82,
   "metadata": {},
   "outputs": [
    {
     "data": {
      "text/html": [
       "<div>\n",
       "<style scoped>\n",
       "    .dataframe tbody tr th:only-of-type {\n",
       "        vertical-align: middle;\n",
       "    }\n",
       "\n",
       "    .dataframe tbody tr th {\n",
       "        vertical-align: top;\n",
       "    }\n",
       "\n",
       "    .dataframe thead th {\n",
       "        text-align: right;\n",
       "    }\n",
       "</style>\n",
       "<table border=\"1\" class=\"dataframe\">\n",
       "  <thead>\n",
       "    <tr style=\"text-align: right;\">\n",
       "      <th></th>\n",
       "      <th>Unnamed: 0</th>\n",
       "      <th>decile3</th>\n",
       "      <th>ID</th>\n",
       "      <th>decile1</th>\n",
       "      <th>race</th>\n",
       "      <th>lsat</th>\n",
       "      <th>ugpa</th>\n",
       "      <th>zfygpa</th>\n",
       "      <th>grad</th>\n",
       "      <th>zgpa</th>\n",
       "      <th>...</th>\n",
       "      <th>race1_hisp</th>\n",
       "      <th>race1_other</th>\n",
       "      <th>race1_white</th>\n",
       "      <th>pass_bar_lr</th>\n",
       "      <th>pass_bar_lr_weighted</th>\n",
       "      <th>pass_bar_lr_best</th>\n",
       "      <th>pass_bar_rf</th>\n",
       "      <th>pass_bar_xgb</th>\n",
       "      <th>pass_bar_xgb_r</th>\n",
       "      <th>race1</th>\n",
       "    </tr>\n",
       "  </thead>\n",
       "  <tbody>\n",
       "    <tr>\n",
       "      <th>0</th>\n",
       "      <td>0</td>\n",
       "      <td>10.0</td>\n",
       "      <td>2</td>\n",
       "      <td>10.0</td>\n",
       "      <td>7.0</td>\n",
       "      <td>44.0</td>\n",
       "      <td>3.5</td>\n",
       "      <td>1.33</td>\n",
       "      <td>1</td>\n",
       "      <td>1.88</td>\n",
       "      <td>...</td>\n",
       "      <td>False</td>\n",
       "      <td>False</td>\n",
       "      <td>True</td>\n",
       "      <td>1</td>\n",
       "      <td>1</td>\n",
       "      <td>1</td>\n",
       "      <td>1</td>\n",
       "      <td>1</td>\n",
       "      <td>1</td>\n",
       "      <td>white</td>\n",
       "    </tr>\n",
       "    <tr>\n",
       "      <th>1</th>\n",
       "      <td>1</td>\n",
       "      <td>4.0</td>\n",
       "      <td>3</td>\n",
       "      <td>5.0</td>\n",
       "      <td>7.0</td>\n",
       "      <td>29.0</td>\n",
       "      <td>3.5</td>\n",
       "      <td>-0.11</td>\n",
       "      <td>1</td>\n",
       "      <td>-0.57</td>\n",
       "      <td>...</td>\n",
       "      <td>False</td>\n",
       "      <td>False</td>\n",
       "      <td>True</td>\n",
       "      <td>1</td>\n",
       "      <td>0</td>\n",
       "      <td>1</td>\n",
       "      <td>1</td>\n",
       "      <td>1</td>\n",
       "      <td>0</td>\n",
       "      <td>white</td>\n",
       "    </tr>\n",
       "    <tr>\n",
       "      <th>2</th>\n",
       "      <td>2</td>\n",
       "      <td>2.0</td>\n",
       "      <td>36</td>\n",
       "      <td>3.0</td>\n",
       "      <td>7.0</td>\n",
       "      <td>36.0</td>\n",
       "      <td>3.5</td>\n",
       "      <td>-0.64</td>\n",
       "      <td>1</td>\n",
       "      <td>-1.12</td>\n",
       "      <td>...</td>\n",
       "      <td>False</td>\n",
       "      <td>False</td>\n",
       "      <td>True</td>\n",
       "      <td>1</td>\n",
       "      <td>0</td>\n",
       "      <td>1</td>\n",
       "      <td>0</td>\n",
       "      <td>0</td>\n",
       "      <td>0</td>\n",
       "      <td>white</td>\n",
       "    </tr>\n",
       "    <tr>\n",
       "      <th>3</th>\n",
       "      <td>3</td>\n",
       "      <td>4.0</td>\n",
       "      <td>52</td>\n",
       "      <td>7.0</td>\n",
       "      <td>7.0</td>\n",
       "      <td>39.0</td>\n",
       "      <td>3.5</td>\n",
       "      <td>0.34</td>\n",
       "      <td>1</td>\n",
       "      <td>-0.49</td>\n",
       "      <td>...</td>\n",
       "      <td>False</td>\n",
       "      <td>False</td>\n",
       "      <td>True</td>\n",
       "      <td>1</td>\n",
       "      <td>1</td>\n",
       "      <td>1</td>\n",
       "      <td>1</td>\n",
       "      <td>1</td>\n",
       "      <td>1</td>\n",
       "      <td>white</td>\n",
       "    </tr>\n",
       "    <tr>\n",
       "      <th>4</th>\n",
       "      <td>4</td>\n",
       "      <td>8.0</td>\n",
       "      <td>55</td>\n",
       "      <td>9.0</td>\n",
       "      <td>7.0</td>\n",
       "      <td>48.0</td>\n",
       "      <td>3.5</td>\n",
       "      <td>1.02</td>\n",
       "      <td>1</td>\n",
       "      <td>0.76</td>\n",
       "      <td>...</td>\n",
       "      <td>False</td>\n",
       "      <td>False</td>\n",
       "      <td>True</td>\n",
       "      <td>1</td>\n",
       "      <td>1</td>\n",
       "      <td>1</td>\n",
       "      <td>1</td>\n",
       "      <td>1</td>\n",
       "      <td>1</td>\n",
       "      <td>white</td>\n",
       "    </tr>\n",
       "    <tr>\n",
       "      <th>...</th>\n",
       "      <td>...</td>\n",
       "      <td>...</td>\n",
       "      <td>...</td>\n",
       "      <td>...</td>\n",
       "      <td>...</td>\n",
       "      <td>...</td>\n",
       "      <td>...</td>\n",
       "      <td>...</td>\n",
       "      <td>...</td>\n",
       "      <td>...</td>\n",
       "      <td>...</td>\n",
       "      <td>...</td>\n",
       "      <td>...</td>\n",
       "      <td>...</td>\n",
       "      <td>...</td>\n",
       "      <td>...</td>\n",
       "      <td>...</td>\n",
       "      <td>...</td>\n",
       "      <td>...</td>\n",
       "      <td>...</td>\n",
       "      <td>...</td>\n",
       "    </tr>\n",
       "    <tr>\n",
       "      <th>22067</th>\n",
       "      <td>22402</td>\n",
       "      <td>1.0</td>\n",
       "      <td>10695</td>\n",
       "      <td>3.0</td>\n",
       "      <td>3.0</td>\n",
       "      <td>26.5</td>\n",
       "      <td>1.8</td>\n",
       "      <td>-0.58</td>\n",
       "      <td>1</td>\n",
       "      <td>-1.49</td>\n",
       "      <td>...</td>\n",
       "      <td>False</td>\n",
       "      <td>False</td>\n",
       "      <td>False</td>\n",
       "      <td>0</td>\n",
       "      <td>0</td>\n",
       "      <td>0</td>\n",
       "      <td>0</td>\n",
       "      <td>0</td>\n",
       "      <td>0</td>\n",
       "      <td>black</td>\n",
       "    </tr>\n",
       "    <tr>\n",
       "      <th>22068</th>\n",
       "      <td>22403</td>\n",
       "      <td>1.0</td>\n",
       "      <td>19642</td>\n",
       "      <td>3.0</td>\n",
       "      <td>3.0</td>\n",
       "      <td>19.7</td>\n",
       "      <td>1.8</td>\n",
       "      <td>-0.64</td>\n",
       "      <td>1</td>\n",
       "      <td>-1.36</td>\n",
       "      <td>...</td>\n",
       "      <td>False</td>\n",
       "      <td>False</td>\n",
       "      <td>False</td>\n",
       "      <td>0</td>\n",
       "      <td>0</td>\n",
       "      <td>0</td>\n",
       "      <td>0</td>\n",
       "      <td>0</td>\n",
       "      <td>0</td>\n",
       "      <td>black</td>\n",
       "    </tr>\n",
       "    <tr>\n",
       "      <th>22069</th>\n",
       "      <td>22404</td>\n",
       "      <td>8.0</td>\n",
       "      <td>24704</td>\n",
       "      <td>7.0</td>\n",
       "      <td>3.0</td>\n",
       "      <td>36.0</td>\n",
       "      <td>1.8</td>\n",
       "      <td>0.41</td>\n",
       "      <td>1</td>\n",
       "      <td>0.80</td>\n",
       "      <td>...</td>\n",
       "      <td>False</td>\n",
       "      <td>False</td>\n",
       "      <td>False</td>\n",
       "      <td>1</td>\n",
       "      <td>1</td>\n",
       "      <td>1</td>\n",
       "      <td>1</td>\n",
       "      <td>1</td>\n",
       "      <td>1</td>\n",
       "      <td>black</td>\n",
       "    </tr>\n",
       "    <tr>\n",
       "      <th>22070</th>\n",
       "      <td>22405</td>\n",
       "      <td>10.0</td>\n",
       "      <td>10000</td>\n",
       "      <td>10.0</td>\n",
       "      <td>7.0</td>\n",
       "      <td>44.0</td>\n",
       "      <td>1.5</td>\n",
       "      <td>1.88</td>\n",
       "      <td>1</td>\n",
       "      <td>1.42</td>\n",
       "      <td>...</td>\n",
       "      <td>False</td>\n",
       "      <td>False</td>\n",
       "      <td>True</td>\n",
       "      <td>1</td>\n",
       "      <td>1</td>\n",
       "      <td>1</td>\n",
       "      <td>1</td>\n",
       "      <td>1</td>\n",
       "      <td>1</td>\n",
       "      <td>white</td>\n",
       "    </tr>\n",
       "    <tr>\n",
       "      <th>22071</th>\n",
       "      <td>22406</td>\n",
       "      <td>8.0</td>\n",
       "      <td>10684</td>\n",
       "      <td>9.0</td>\n",
       "      <td>7.0</td>\n",
       "      <td>29.5</td>\n",
       "      <td>1.6</td>\n",
       "      <td>1.10</td>\n",
       "      <td>1</td>\n",
       "      <td>0.81</td>\n",
       "      <td>...</td>\n",
       "      <td>False</td>\n",
       "      <td>False</td>\n",
       "      <td>True</td>\n",
       "      <td>1</td>\n",
       "      <td>1</td>\n",
       "      <td>1</td>\n",
       "      <td>1</td>\n",
       "      <td>1</td>\n",
       "      <td>1</td>\n",
       "      <td>white</td>\n",
       "    </tr>\n",
       "  </tbody>\n",
       "</table>\n",
       "<p>22072 rows × 33 columns</p>\n",
       "</div>"
      ],
      "text/plain": [
       "       Unnamed: 0  decile3     ID  decile1  race  lsat  ugpa  zfygpa  grad  \\\n",
       "0               0     10.0      2     10.0   7.0  44.0   3.5    1.33     1   \n",
       "1               1      4.0      3      5.0   7.0  29.0   3.5   -0.11     1   \n",
       "2               2      2.0     36      3.0   7.0  36.0   3.5   -0.64     1   \n",
       "3               3      4.0     52      7.0   7.0  39.0   3.5    0.34     1   \n",
       "4               4      8.0     55      9.0   7.0  48.0   3.5    1.02     1   \n",
       "...           ...      ...    ...      ...   ...   ...   ...     ...   ...   \n",
       "22067       22402      1.0  10695      3.0   3.0  26.5   1.8   -0.58     1   \n",
       "22068       22403      1.0  19642      3.0   3.0  19.7   1.8   -0.64     1   \n",
       "22069       22404      8.0  24704      7.0   3.0  36.0   1.8    0.41     1   \n",
       "22070       22405     10.0  10000     10.0   7.0  44.0   1.5    1.88     1   \n",
       "22071       22406      8.0  10684      9.0   7.0  29.5   1.6    1.10     1   \n",
       "\n",
       "       zgpa  ...  race1_hisp  race1_other  race1_white  pass_bar_lr  \\\n",
       "0      1.88  ...       False        False         True            1   \n",
       "1     -0.57  ...       False        False         True            1   \n",
       "2     -1.12  ...       False        False         True            1   \n",
       "3     -0.49  ...       False        False         True            1   \n",
       "4      0.76  ...       False        False         True            1   \n",
       "...     ...  ...         ...          ...          ...          ...   \n",
       "22067 -1.49  ...       False        False        False            0   \n",
       "22068 -1.36  ...       False        False        False            0   \n",
       "22069  0.80  ...       False        False        False            1   \n",
       "22070  1.42  ...       False        False         True            1   \n",
       "22071  0.81  ...       False        False         True            1   \n",
       "\n",
       "       pass_bar_lr_weighted  pass_bar_lr_best  pass_bar_rf pass_bar_xgb  \\\n",
       "0                         1                 1            1            1   \n",
       "1                         0                 1            1            1   \n",
       "2                         0                 1            0            0   \n",
       "3                         1                 1            1            1   \n",
       "4                         1                 1            1            1   \n",
       "...                     ...               ...          ...          ...   \n",
       "22067                     0                 0            0            0   \n",
       "22068                     0                 0            0            0   \n",
       "22069                     1                 1            1            1   \n",
       "22070                     1                 1            1            1   \n",
       "22071                     1                 1            1            1   \n",
       "\n",
       "       pass_bar_xgb_r  race1  \n",
       "0                   1  white  \n",
       "1                   0  white  \n",
       "2                   0  white  \n",
       "3                   1  white  \n",
       "4                   1  white  \n",
       "...               ...    ...  \n",
       "22067               0  black  \n",
       "22068               0  black  \n",
       "22069               1  black  \n",
       "22070               1  white  \n",
       "22071               1  white  \n",
       "\n",
       "[22072 rows x 33 columns]"
      ]
     },
     "execution_count": 82,
     "metadata": {},
     "output_type": "execute_result"
    }
   ],
   "source": [
    "df"
   ]
  },
  {
   "cell_type": "code",
   "execution_count": 83,
   "metadata": {},
   "outputs": [
    {
     "data": {
      "text/plain": [
       "Index(['Unnamed: 0', 'decile3', 'ID', 'decile1', 'race', 'lsat', 'ugpa',\n",
       "       'zfygpa', 'grad', 'zgpa', 'bar1', 'bar1_yr', 'bar2', 'bar2_yr',\n",
       "       'fam_inc', 'parttime', 'male', 'race2', 'pass_bar', 'bar', 'tier',\n",
       "       'academic_career', 'race1_black', 'race1_hisp', 'race1_other',\n",
       "       'race1_white', 'pass_bar_lr', 'pass_bar_lr_weighted',\n",
       "       'pass_bar_lr_best', 'pass_bar_rf', 'pass_bar_xgb', 'pass_bar_xgb_r',\n",
       "       'race1'],\n",
       "      dtype='object')"
      ]
     },
     "execution_count": 83,
     "metadata": {},
     "output_type": "execute_result"
    }
   ],
   "source": [
    "df.columns"
   ]
  },
  {
   "cell_type": "code",
   "execution_count": 84,
   "metadata": {},
   "outputs": [],
   "source": [
    "predicted_cols = ['pass_bar_lr', 'pass_bar_lr_weighted',\n",
    "       'pass_bar_lr_best', 'pass_bar_rf', 'pass_bar_xgb', 'pass_bar_xgb_r']"
   ]
  },
  {
   "cell_type": "code",
   "execution_count": 85,
   "metadata": {},
   "outputs": [
    {
     "data": {
      "text/plain": [
       "Index(['Unnamed: 0', 'decile3', 'ID', 'decile1', 'race', 'lsat', 'ugpa',\n",
       "       'zfygpa', 'grad', 'zgpa', 'bar1', 'bar1_yr', 'bar2', 'bar2_yr',\n",
       "       'fam_inc', 'parttime', 'male', 'race2', 'pass_bar', 'bar', 'tier',\n",
       "       'academic_career', 'race1_black', 'race1_hisp', 'race1_other',\n",
       "       'race1_white', 'race1'],\n",
       "      dtype='object')"
      ]
     },
     "execution_count": 85,
     "metadata": {},
     "output_type": "execute_result"
    }
   ],
   "source": [
    "df = df.drop(columns=predicted_cols)\n",
    "df.columns"
   ]
  },
  {
   "cell_type": "markdown",
   "metadata": {},
   "source": [
    "The variables to check are: \n",
    "- race (encoded through one-hot encoding)\n",
    "- family income group \n",
    "- school tier\n",
    "\n",
    "The models we are deploying are: \n",
    "- Weighted Logistic Regression with Grid Search\n",
    "- Random Forest\n",
    "- XGBoost R "
   ]
  },
  {
   "cell_type": "markdown",
   "metadata": {},
   "source": [
    "## Divide in train and test"
   ]
  },
  {
   "cell_type": "code",
   "execution_count": 86,
   "metadata": {},
   "outputs": [],
   "source": [
    "from sklearn.calibration import LabelEncoder\n",
    "\n",
    "\n",
    "race_enc = LabelEncoder()\n",
    "df['race_encoded'] = race_enc.fit_transform(df['race1'])"
   ]
  },
  {
   "cell_type": "code",
   "execution_count": 87,
   "metadata": {},
   "outputs": [
    {
     "name": "stdout",
     "output_type": "stream",
     "text": [
      "Race encoding dictionary: {'asian': 0, 'black': 1, 'hisp': 2, 'other': 3, 'white': 4}\n"
     ]
    }
   ],
   "source": [
    "race_encoding = dict(zip(race_enc.classes_, race_enc.transform(race_enc.classes_)))\n",
    "print(\"Race encoding dictionary:\", race_encoding)"
   ]
  },
  {
   "cell_type": "code",
   "execution_count": 88,
   "metadata": {},
   "outputs": [],
   "source": [
    "# Features we want to use\n",
    "features = ['male', 'decile1', 'decile3', 'lsat', 'ugpa', 'zfygpa', 'zgpa', 'parttime', 'fam_inc', 'tier', 'race1_black', 'race1_hisp', 'race1_other', 'race1_white', 'race_encoded']\n",
    "\n",
    "# Target variable\n",
    "target = 'pass_bar'"
   ]
  },
  {
   "cell_type": "code",
   "execution_count": 89,
   "metadata": {},
   "outputs": [],
   "source": [
    "X = df[features]\n",
    "y = df[target]\n",
    "X_train, X_test, y_train, y_test = train_test_split(X, y, test_size=0.2, random_state=42)\n",
    "\n",
    "df_train = X_train.copy()\n",
    "df_train[target] = y_train\n",
    "df_test = X_test.copy()\n",
    "df_test[target] = y_test"
   ]
  },
  {
   "cell_type": "markdown",
   "metadata": {},
   "source": [
    "## Apply reweighing and run the model, to see parameters"
   ]
  },
  {
   "cell_type": "code",
   "execution_count": 90,
   "metadata": {},
   "outputs": [],
   "source": [
    "from aif360.datasets import StandardDataset\n",
    "from aif360.algorithms.preprocessing import Reweighing\n",
    "\n",
    "# Build StandardDataset from training data\n",
    "dataset_train = StandardDataset(\n",
    "    df_train,\n",
    "    label_name='pass_bar',\n",
    "    favorable_classes=[1],\n",
    "    protected_attribute_names=['race_encoded', 'fam_inc', 'tier'],\n",
    "    privileged_classes=[[4], [5], [6]]\n",
    ")\n",
    "\n",
    "RW = Reweighing(\n",
    "    privileged_groups=[{'race_encoded': 4, 'fam_inc': 5, 'tier': 6}],\n",
    "    unprivileged_groups=[\n",
    "        {'race_encoded': r, 'fam_inc': i, 'tier': t}\n",
    "        for r in set(df_train['race_encoded']) - {4}\n",
    "        for i in set(df_train['fam_inc']) - {5}\n",
    "        for t in set(df_train['tier']) - {6}\n",
    "    ]\n",
    ")\n",
    "\n",
    "dataset_rw = RW.fit_transform(dataset_train)\n",
    "df_train_rw = dataset_rw.convert_to_dataframe()[0]\n",
    "weights_rw = dataset_rw.instance_weights\n",
    "\n",
    "X_train_rw = df_train_rw.drop(columns=['pass_bar', 'race_encoded', 'fam_inc', 'tier'])\n",
    "y_train_rw = df_train_rw['pass_bar']\n"
   ]
  },
  {
   "cell_type": "code",
   "execution_count": 91,
   "metadata": {},
   "outputs": [
    {
     "name": "stdout",
     "output_type": "stream",
     "text": [
      "[[ 184   43]\n",
      " [ 875 3313]]\n",
      "              precision    recall  f1-score   support\n",
      "\n",
      "           0       0.17      0.81      0.29       227\n",
      "           1       0.99      0.79      0.88      4188\n",
      "\n",
      "    accuracy                           0.79      4415\n",
      "   macro avg       0.58      0.80      0.58      4415\n",
      "weighted avg       0.95      0.79      0.85      4415\n",
      "\n"
     ]
    }
   ],
   "source": [
    "from sklearn.metrics import classification_report, confusion_matrix\n",
    "from xgboost import XGBClassifier\n",
    "\n",
    "ratio = np.sum(y_train_rw == 0) / np.sum(y_train_rw == 1)\n",
    "xgb_rw_model = XGBClassifier(eval_metric='mlogloss', random_state=42, scale_pos_weight=ratio, reg_alpha=5, reg_lambda=5, gamma=0.1, learning_rate=0.2, max_depth=7, n_estimators=100)  \n",
    "xgb_rw_model.fit(X_train_rw, y_train_rw, sample_weight=weights_rw)\n",
    "\n",
    "# Predict on the **same test set**\n",
    "X_test_aligned = df_test[X_train_rw.columns]\n",
    "y_pred_rw = xgb_rw_model.predict(X_test_aligned)\n",
    "\n",
    "print(confusion_matrix(y_test, y_pred_rw))\n",
    "print(classification_report(y_test, y_pred_rw))\n"
   ]
  },
  {
   "cell_type": "markdown",
   "metadata": {},
   "source": [
    "The results are in line with what was seen before. "
   ]
  },
  {
   "cell_type": "markdown",
   "metadata": {},
   "source": [
    "## Retrain on the whole reweighted dataset"
   ]
  },
  {
   "cell_type": "code",
   "execution_count": 92,
   "metadata": {},
   "outputs": [
    {
     "data": {
      "text/plain": [
       "Unnamed: 0           int64\n",
       "decile3            float64\n",
       "ID                   int64\n",
       "decile1            float64\n",
       "race               float64\n",
       "lsat               float64\n",
       "ugpa               float64\n",
       "zfygpa             float64\n",
       "grad                 int64\n",
       "zgpa               float64\n",
       "bar1                 int64\n",
       "bar1_yr            float64\n",
       "bar2                 int64\n",
       "bar2_yr            float64\n",
       "fam_inc            float64\n",
       "parttime           float64\n",
       "male               float64\n",
       "race2               object\n",
       "pass_bar             int64\n",
       "bar                 object\n",
       "tier               float64\n",
       "academic_career    float64\n",
       "race1_black           bool\n",
       "race1_hisp            bool\n",
       "race1_other           bool\n",
       "race1_white           bool\n",
       "race1               object\n",
       "race_encoded         int32\n",
       "dtype: object"
      ]
     },
     "execution_count": 92,
     "metadata": {},
     "output_type": "execute_result"
    }
   ],
   "source": [
    "df.dtypes"
   ]
  },
  {
   "cell_type": "code",
   "execution_count": 93,
   "metadata": {},
   "outputs": [
    {
     "data": {
      "text/plain": [
       "race1_black           bool\n",
       "lsat               float64\n",
       "race1_white           bool\n",
       "race               float64\n",
       "pass_bar             int64\n",
       "bar1                 int64\n",
       "academic_career    float64\n",
       "decile1            float64\n",
       "race1_hisp            bool\n",
       "bar2_yr            float64\n",
       "ID                   int64\n",
       "parttime           float64\n",
       "ugpa               float64\n",
       "bar2                 int64\n",
       "race1_other           bool\n",
       "tier               float64\n",
       "male               float64\n",
       "zfygpa             float64\n",
       "bar1_yr            float64\n",
       "race_encoded         int32\n",
       "fam_inc            float64\n",
       "zgpa               float64\n",
       "grad                 int64\n",
       "decile3            float64\n",
       "Unnamed: 0           int64\n",
       "dtype: object"
      ]
     },
     "execution_count": 93,
     "metadata": {},
     "output_type": "execute_result"
    }
   ],
   "source": [
    "nokeep = ['bar', 'race2', 'race1']\n",
    "keep = list(set(df.columns) - set(nokeep))\n",
    "df_full = df[keep]\n",
    "df_full.dtypes"
   ]
  },
  {
   "cell_type": "code",
   "execution_count": 94,
   "metadata": {},
   "outputs": [],
   "source": [
    "# Recreate the full StandardDataset\n",
    "dataset_full = StandardDataset(\n",
    "    df_full,\n",
    "    label_name='pass_bar',\n",
    "    favorable_classes=[1],\n",
    "    protected_attribute_names=['race_encoded', 'fam_inc', 'tier'],\n",
    "    privileged_classes=[[4], [5], [6]]\n",
    ")\n",
    "\n",
    "# Apply reweighing to the full data\n",
    "RW_full = Reweighing(\n",
    "    privileged_groups=[{'race_encoded': 4, 'fam_inc': 5, 'tier': 6}],\n",
    "    unprivileged_groups=[\n",
    "        {'race_encoded': r, 'fam_inc': i, 'tier': t}\n",
    "        for r in set(df['race_encoded']) - {4}\n",
    "        for i in set(df['fam_inc']) - {5}\n",
    "        for t in set(df['tier']) - {6}\n",
    "    ]\n",
    ")\n",
    "\n",
    "dataset_full_rw = RW_full.fit_transform(dataset_full)\n",
    "df_full_rw = dataset_full_rw.convert_to_dataframe()[0]\n",
    "weights_full = dataset_full_rw.instance_weights\n"
   ]
  },
  {
   "cell_type": "code",
   "execution_count": 95,
   "metadata": {},
   "outputs": [],
   "source": [
    "X_full_rw = df_full_rw.drop(columns=['pass_bar', 'race_encoded', 'fam_inc', 'tier'])\n",
    "y_full_rw = df_full_rw['pass_bar']"
   ]
  },
  {
   "cell_type": "code",
   "execution_count": 96,
   "metadata": {},
   "outputs": [
    {
     "name": "stderr",
     "output_type": "stream",
     "text": [
      "C:\\Users\\annad\\AppData\\Local\\Temp\\ipykernel_16840\\1356473432.py:5: SettingWithCopyWarning: \n",
      "A value is trying to be set on a copy of a slice from a DataFrame.\n",
      "Try using .loc[row_indexer,col_indexer] = value instead\n",
      "\n",
      "See the caveats in the documentation: https://pandas.pydata.org/pandas-docs/stable/user_guide/indexing.html#returning-a-view-versus-a-copy\n",
      "  df_full['pass_bar_xgb_r_rw'] = pass_bar_xgb_r_rw\n"
     ]
    }
   ],
   "source": [
    "ratio = np.sum(y_train == 0) / np.sum(y_train == 1)\n",
    "xgb_best_model_regul = XGBClassifier(eval_metric='mlogloss', random_state=42, scale_pos_weight=ratio, reg_alpha=5, reg_lambda=5, gamma=0.1, learning_rate=0.2, max_depth=7, n_estimators=100)  \n",
    "xgb_best_model_regul.fit(X_full_rw, y_full_rw) \n",
    "pass_bar_xgb_r_rw = xgb_best_model_regul.predict(X_full_rw)\n",
    "df_full['pass_bar_xgb_r_rw'] = pass_bar_xgb_r_rw"
   ]
  },
  {
   "cell_type": "markdown",
   "metadata": {},
   "source": [
    "## Check bias"
   ]
  },
  {
   "cell_type": "code",
   "execution_count": 97,
   "metadata": {},
   "outputs": [],
   "source": [
    "from aif360.datasets import StandardDataset\n",
    "from aif360.metrics import BinaryLabelDatasetMetric\n",
    "from aif360.datasets import BinaryLabelDataset"
   ]
  },
  {
   "cell_type": "markdown",
   "metadata": {},
   "source": [
    "### Race"
   ]
  },
  {
   "cell_type": "code",
   "execution_count": 98,
   "metadata": {},
   "outputs": [
    {
     "name": "stderr",
     "output_type": "stream",
     "text": [
      "C:\\Users\\annad\\AppData\\Local\\Temp\\ipykernel_16840\\3139134377.py:4: SettingWithCopyWarning: \n",
      "A value is trying to be set on a copy of a slice from a DataFrame.\n",
      "Try using .loc[row_indexer,col_indexer] = value instead\n",
      "\n",
      "See the caveats in the documentation: https://pandas.pydata.org/pandas-docs/stable/user_guide/indexing.html#returning-a-view-versus-a-copy\n",
      "  df_full['race1'] = df['race1'].str.lower().str.strip()\n"
     ]
    },
    {
     "name": "stdout",
     "output_type": "stream",
     "text": [
      "{'black': {'Disparate Impact': 0.8066434601672019, 'Statistical Parity Difference': -0.1869259843427462}, 'hisp': {'Disparate Impact': 0.9053574519262774, 'Statistical Parity Difference': -0.09149497335173884}, 'asian': {'Disparate Impact': 0.9540258125673858, 'Statistical Parity Difference': -0.04444520080691683}, 'other': {'Disparate Impact': 0.9268648122095939, 'Statistical Parity Difference': -0.07070289414381803}}\n"
     ]
    }
   ],
   "source": [
    "race_groups = ['black', 'hisp', 'asian', 'other']\n",
    "results = {}\n",
    "\n",
    "df_full['race1'] = df['race1'].str.lower().str.strip()\n",
    "\n",
    "for group in race_groups:\n",
    "    df_temp = df_full[df_full['race1'].isin(['white', group])].copy()\n",
    "    df_temp['race_bin'] = df_temp['race1'].apply(lambda x: 1 if x == 'white' else 0)\n",
    "\n",
    "    df_numeric = df_temp.select_dtypes(include=[np.number])\n",
    "    for col in ['pass_bar_xgb_r_rw', 'race_bin']:\n",
    "        if col not in df_numeric.columns:\n",
    "            df_numeric[col] = df_temp[col]\n",
    "\n",
    "    df_numeric = df_numeric.dropna(subset=['pass_bar_xgb_r_rw', 'race_bin'])\n",
    "\n",
    "    if df_numeric['race_bin'].nunique() < 2:\n",
    "        print(f\"Skipping group {group} — only one race_bin present\")\n",
    "        continue\n",
    "\n",
    "    dataset = BinaryLabelDataset(\n",
    "        favorable_label=1,\n",
    "        unfavorable_label=0,\n",
    "        df=df_numeric,\n",
    "        label_names=['pass_bar_xgb_r_rw'],\n",
    "        protected_attribute_names=['race_bin']\n",
    "    )\n",
    "\n",
    "    metric = BinaryLabelDatasetMetric(\n",
    "        dataset,\n",
    "        privileged_groups=[{'race_bin': 1}],\n",
    "        unprivileged_groups=[{'race_bin': 0}]\n",
    "    )\n",
    "\n",
    "    results[group] = {\n",
    "        'Disparate Impact': metric.disparate_impact(),\n",
    "        'Statistical Parity Difference': metric.statistical_parity_difference()\n",
    "    }\n",
    "\n",
    "print(results)\n"
   ]
  },
  {
   "cell_type": "code",
   "execution_count": 99,
   "metadata": {},
   "outputs": [
    {
     "name": "stderr",
     "output_type": "stream",
     "text": [
      "C:\\Users\\annad\\AppData\\Local\\Temp\\ipykernel_16840\\3271686522.py:6: FutureWarning: \n",
      "\n",
      "Passing `palette` without assigning `hue` is deprecated and will be removed in v0.14.0. Assign the `x` variable to `hue` and set `legend=False` for the same effect.\n",
      "\n",
      "  sns.barplot(data=results_df, x='Race', y='Disparate Impact', palette='muted')\n",
      "c:\\Users\\annad\\AppData\\Local\\Programs\\Python\\Python311\\Lib\\site-packages\\seaborn\\_base.py:948: FutureWarning: When grouping with a length-1 list-like, you will need to pass a length-1 tuple to get_group in a future version of pandas. Pass `(name,)` instead of `name` to silence this warning.\n",
      "  data_subset = grouped_data.get_group(pd_key)\n",
      "c:\\Users\\annad\\AppData\\Local\\Programs\\Python\\Python311\\Lib\\site-packages\\seaborn\\_base.py:948: FutureWarning: When grouping with a length-1 list-like, you will need to pass a length-1 tuple to get_group in a future version of pandas. Pass `(name,)` instead of `name` to silence this warning.\n",
      "  data_subset = grouped_data.get_group(pd_key)\n",
      "c:\\Users\\annad\\AppData\\Local\\Programs\\Python\\Python311\\Lib\\site-packages\\seaborn\\_base.py:948: FutureWarning: When grouping with a length-1 list-like, you will need to pass a length-1 tuple to get_group in a future version of pandas. Pass `(name,)` instead of `name` to silence this warning.\n",
      "  data_subset = grouped_data.get_group(pd_key)\n",
      "c:\\Users\\annad\\AppData\\Local\\Programs\\Python\\Python311\\Lib\\site-packages\\seaborn\\_base.py:948: FutureWarning: When grouping with a length-1 list-like, you will need to pass a length-1 tuple to get_group in a future version of pandas. Pass `(name,)` instead of `name` to silence this warning.\n",
      "  data_subset = grouped_data.get_group(pd_key)\n"
     ]
    },
    {
     "data": {
      "image/png": "[encoded data removed]",
      "text/plain": [
       "<Figure size 1000x500 with 1 Axes>"
      ]
     },
     "metadata": {},
     "output_type": "display_data"
    }
   ],
   "source": [
    "import seaborn as sns\n",
    "\n",
    "results_df = pd.DataFrame(results).T.reset_index().rename(columns={'index': 'Race'})\n",
    "\n",
    "plt.figure(figsize=(10, 5))\n",
    "sns.barplot(data=results_df, x='Race', y='Disparate Impact', palette='muted')\n",
    "plt.axhline(1.0, linestyle='--', color='black')\n",
    "plt.title(\"Disparate Impact by Race Group (Compared to White)\")\n",
    "plt.ylabel(\"Disparate Impact\")\n",
    "plt.xlabel(\"Race Group\")\n",
    "\n",
    "for idx, row in results_df.iterrows():\n",
    "    plt.text(idx, row['Disparate Impact'] + 0.01, f\"{row['Disparate Impact']:.2f}\", ha='center')\n",
    "\n",
    "plt.tight_layout()\n",
    "plt.show()\n"
   ]
  },
  {
   "cell_type": "markdown",
   "metadata": {},
   "source": [
    "### Family income"
   ]
  },
  {
   "cell_type": "code",
   "execution_count": 100,
   "metadata": {},
   "outputs": [
    {
     "name": "stderr",
     "output_type": "stream",
     "text": [
      "C:\\Users\\annad\\AppData\\Local\\Temp\\ipykernel_16840\\2409773252.py:44: FutureWarning: \n",
      "\n",
      "Passing `palette` without assigning `hue` is deprecated and will be removed in v0.14.0. Assign the `x` variable to `hue` and set `legend=False` for the same effect.\n",
      "\n",
      "  sns.barplot(data=results_df, x='Income Group', y='Disparate Impact', palette='crest')\n",
      "c:\\Users\\annad\\AppData\\Local\\Programs\\Python\\Python311\\Lib\\site-packages\\seaborn\\_base.py:948: FutureWarning: When grouping with a length-1 list-like, you will need to pass a length-1 tuple to get_group in a future version of pandas. Pass `(name,)` instead of `name` to silence this warning.\n",
      "  data_subset = grouped_data.get_group(pd_key)\n",
      "c:\\Users\\annad\\AppData\\Local\\Programs\\Python\\Python311\\Lib\\site-packages\\seaborn\\_base.py:948: FutureWarning: When grouping with a length-1 list-like, you will need to pass a length-1 tuple to get_group in a future version of pandas. Pass `(name,)` instead of `name` to silence this warning.\n",
      "  data_subset = grouped_data.get_group(pd_key)\n",
      "c:\\Users\\annad\\AppData\\Local\\Programs\\Python\\Python311\\Lib\\site-packages\\seaborn\\_base.py:948: FutureWarning: When grouping with a length-1 list-like, you will need to pass a length-1 tuple to get_group in a future version of pandas. Pass `(name,)` instead of `name` to silence this warning.\n",
      "  data_subset = grouped_data.get_group(pd_key)\n",
      "c:\\Users\\annad\\AppData\\Local\\Programs\\Python\\Python311\\Lib\\site-packages\\seaborn\\_base.py:948: FutureWarning: When grouping with a length-1 list-like, you will need to pass a length-1 tuple to get_group in a future version of pandas. Pass `(name,)` instead of `name` to silence this warning.\n",
      "  data_subset = grouped_data.get_group(pd_key)\n"
     ]
    },
    {
     "data": {
      "image/png": "[encoded data removed]",
      "text/plain": [
       "<Figure size 1000x500 with 1 Axes>"
      ]
     },
     "metadata": {},
     "output_type": "display_data"
    }
   ],
   "source": [
    "income_groups = [1.0, 2.0, 3.0, 4.0]\n",
    "results = {}\n",
    "\n",
    "df_full = df_full.dropna(subset=['fam_inc'])\n",
    "\n",
    "for group in income_groups:\n",
    "    df_temp = df_full[df_full['fam_inc'].isin([5.0, group])].copy()\n",
    "    df_temp['income_bin'] = df_temp['fam_inc'].apply(lambda x: 1 if x == 5.0 else 0)\n",
    "\n",
    "    df_numeric = df_temp.select_dtypes(include=[np.number])\n",
    "    for col in ['pass_bar_xgb_r_rw', 'income_bin']:\n",
    "        if col not in df_numeric.columns:\n",
    "            df_numeric[col] = df_temp[col]\n",
    "\n",
    "    df_numeric = df_numeric.dropna(subset=['pass_bar_xgb_r_rw', 'income_bin'])\n",
    "\n",
    "    if df_numeric['income_bin'].nunique() < 2:\n",
    "        print(f\"Skipping income group {group} — only one group present\")\n",
    "        continue\n",
    "\n",
    "    dataset = BinaryLabelDataset(\n",
    "        favorable_label=1,\n",
    "        unfavorable_label=0,\n",
    "        df=df_numeric,\n",
    "        label_names=['pass_bar_xgb_r_rw'],\n",
    "        protected_attribute_names=['income_bin']\n",
    "    )\n",
    "\n",
    "    metric = BinaryLabelDatasetMetric(\n",
    "        dataset,\n",
    "        privileged_groups=[{'income_bin': 1}],  # high income (5)\n",
    "        unprivileged_groups=[{'income_bin': 0}]  # current group\n",
    "    )\n",
    "\n",
    "    results[int(group)] = {\n",
    "        'Disparate Impact': metric.disparate_impact(),\n",
    "        'Statistical Parity Difference': metric.statistical_parity_difference()\n",
    "    }\n",
    "\n",
    "results_df = pd.DataFrame(results).T.reset_index().rename(columns={'index': 'Income Group'})\n",
    "results_df = results_df.sort_values(by='Income Group')\n",
    "\n",
    "plt.figure(figsize=(10, 5))\n",
    "sns.barplot(data=results_df, x='Income Group', y='Disparate Impact', palette='crest')\n",
    "plt.axhline(1.0, linestyle='--', color='black')\n",
    "plt.title(\"Disparate Impact by Family Income Group (Compared to Group 5)\")\n",
    "plt.ylabel(\"Disparate Impact\")\n",
    "plt.xlabel(\"Family Income Group\")\n",
    "\n",
    "for idx, row in results_df.iterrows():\n",
    "    plt.text(idx, row['Disparate Impact'] + 0.01, f\"{row['Disparate Impact']:.2f}\", ha='center')\n",
    "\n",
    "plt.tight_layout()\n",
    "plt.show()\n"
   ]
  }
 ],
 "metadata": {
  "kernelspec": {
   "display_name": "Python 3",
   "language": "python",
   "name": "python3"
  },
  "language_info": {
   "codemirror_mode": {
    "name": "ipython",
    "version": 3
   },
   "file_extension": ".py",
   "mimetype": "text/x-python",
   "name": "python",
   "nbconvert_exporter": "python",
   "pygments_lexer": "ipython3",
   "version": "3.11.5"
  }
 },
 "nbformat": 4,
 "nbformat_minor": 2
}
