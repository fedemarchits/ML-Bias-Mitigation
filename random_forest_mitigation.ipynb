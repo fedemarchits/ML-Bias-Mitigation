{
 "cells": [
  {
   "cell_type": "markdown",
   "metadata": {},
   "source": [
    "# Imports"
   ]
  },
  {
   "cell_type": "code",
   "execution_count": 106,
   "metadata": {},
   "outputs": [],
   "source": [
    "import pandas as pd\n",
    "from sklearn.calibration import LabelEncoder\n",
    "from sklearn.model_selection import train_test_split\n",
    "from aif360.datasets import StandardDataset\n",
    "from aif360.metrics import BinaryLabelDatasetMetric\n",
    "from aif360.datasets import BinaryLabelDataset"
   ]
  },
  {
   "cell_type": "markdown",
   "metadata": {},
   "source": [
    "# Dataset cleaning (all features need to be numeric)"
   ]
  },
  {
   "cell_type": "code",
   "execution_count": 107,
   "metadata": {},
   "outputs": [],
   "source": [
    "df = pd.read_csv('complete_df_with_predictions.csv')\n",
    "df_copied = df.copy()\n",
    "predicted_cols = ['pass_bar_lr', 'pass_bar_lr_weighted',\n",
    "       'pass_bar_lr_best', 'pass_bar_rf', 'pass_bar_xgb', 'pass_bar_xgb_r']\n",
    "df.drop(columns=predicted_cols, inplace=True)"
   ]
  },
  {
   "cell_type": "code",
   "execution_count": 108,
   "metadata": {},
   "outputs": [
    {
     "data": {
      "text/plain": [
       "Unnamed: 0           int64\n",
       "decile3            float64\n",
       "ID                   int64\n",
       "decile1            float64\n",
       "race               float64\n",
       "lsat               float64\n",
       "ugpa               float64\n",
       "zfygpa             float64\n",
       "grad                 int64\n",
       "zgpa               float64\n",
       "bar1                 int64\n",
       "bar1_yr            float64\n",
       "bar2                 int64\n",
       "bar2_yr            float64\n",
       "fam_inc            float64\n",
       "parttime           float64\n",
       "male               float64\n",
       "race2               object\n",
       "pass_bar             int64\n",
       "bar                 object\n",
       "tier               float64\n",
       "academic_career    float64\n",
       "race1_black           bool\n",
       "race1_hisp            bool\n",
       "race1_other           bool\n",
       "race1_white           bool\n",
       "race1               object\n",
       "dtype: object"
      ]
     },
     "execution_count": 108,
     "metadata": {},
     "output_type": "execute_result"
    }
   ],
   "source": [
    "df.dtypes"
   ]
  },
  {
   "cell_type": "code",
   "execution_count": 109,
   "metadata": {},
   "outputs": [
    {
     "data": {
      "text/html": [
       "<div>\n",
       "<style scoped>\n",
       "    .dataframe tbody tr th:only-of-type {\n",
       "        vertical-align: middle;\n",
       "    }\n",
       "\n",
       "    .dataframe tbody tr th {\n",
       "        vertical-align: top;\n",
       "    }\n",
       "\n",
       "    .dataframe thead th {\n",
       "        text-align: right;\n",
       "    }\n",
       "</style>\n",
       "<table border=\"1\" class=\"dataframe\">\n",
       "  <thead>\n",
       "    <tr style=\"text-align: right;\">\n",
       "      <th></th>\n",
       "      <th>Unnamed: 0</th>\n",
       "      <th>decile3</th>\n",
       "      <th>ID</th>\n",
       "      <th>decile1</th>\n",
       "      <th>race</th>\n",
       "      <th>lsat</th>\n",
       "      <th>ugpa</th>\n",
       "      <th>zfygpa</th>\n",
       "      <th>grad</th>\n",
       "      <th>zgpa</th>\n",
       "      <th>...</th>\n",
       "      <th>pass_bar</th>\n",
       "      <th>bar</th>\n",
       "      <th>tier</th>\n",
       "      <th>academic_career</th>\n",
       "      <th>race1_black</th>\n",
       "      <th>race1_hisp</th>\n",
       "      <th>race1_other</th>\n",
       "      <th>race1_white</th>\n",
       "      <th>race1</th>\n",
       "      <th>race1_encoded</th>\n",
       "    </tr>\n",
       "  </thead>\n",
       "  <tbody>\n",
       "    <tr>\n",
       "      <th>0</th>\n",
       "      <td>0</td>\n",
       "      <td>10.0</td>\n",
       "      <td>2</td>\n",
       "      <td>10.0</td>\n",
       "      <td>7.0</td>\n",
       "      <td>44.0</td>\n",
       "      <td>3.5</td>\n",
       "      <td>1.33</td>\n",
       "      <td>1</td>\n",
       "      <td>1.88</td>\n",
       "      <td>...</td>\n",
       "      <td>1</td>\n",
       "      <td>a Passed 1st time</td>\n",
       "      <td>4.0</td>\n",
       "      <td>1.341087</td>\n",
       "      <td>False</td>\n",
       "      <td>False</td>\n",
       "      <td>False</td>\n",
       "      <td>True</td>\n",
       "      <td>white</td>\n",
       "      <td>4</td>\n",
       "    </tr>\n",
       "    <tr>\n",
       "      <th>1</th>\n",
       "      <td>1</td>\n",
       "      <td>4.0</td>\n",
       "      <td>3</td>\n",
       "      <td>5.0</td>\n",
       "      <td>7.0</td>\n",
       "      <td>29.0</td>\n",
       "      <td>3.5</td>\n",
       "      <td>-0.11</td>\n",
       "      <td>1</td>\n",
       "      <td>-0.57</td>\n",
       "      <td>...</td>\n",
       "      <td>1</td>\n",
       "      <td>a Passed 1st time</td>\n",
       "      <td>2.0</td>\n",
       "      <td>-0.385252</td>\n",
       "      <td>False</td>\n",
       "      <td>False</td>\n",
       "      <td>False</td>\n",
       "      <td>True</td>\n",
       "      <td>white</td>\n",
       "      <td>4</td>\n",
       "    </tr>\n",
       "    <tr>\n",
       "      <th>2</th>\n",
       "      <td>2</td>\n",
       "      <td>2.0</td>\n",
       "      <td>36</td>\n",
       "      <td>3.0</td>\n",
       "      <td>7.0</td>\n",
       "      <td>36.0</td>\n",
       "      <td>3.5</td>\n",
       "      <td>-0.64</td>\n",
       "      <td>1</td>\n",
       "      <td>-1.12</td>\n",
       "      <td>...</td>\n",
       "      <td>1</td>\n",
       "      <td>a Passed 1st time</td>\n",
       "      <td>3.0</td>\n",
       "      <td>-0.355093</td>\n",
       "      <td>False</td>\n",
       "      <td>False</td>\n",
       "      <td>False</td>\n",
       "      <td>True</td>\n",
       "      <td>white</td>\n",
       "      <td>4</td>\n",
       "    </tr>\n",
       "    <tr>\n",
       "      <th>3</th>\n",
       "      <td>3</td>\n",
       "      <td>4.0</td>\n",
       "      <td>52</td>\n",
       "      <td>7.0</td>\n",
       "      <td>7.0</td>\n",
       "      <td>39.0</td>\n",
       "      <td>3.5</td>\n",
       "      <td>0.34</td>\n",
       "      <td>1</td>\n",
       "      <td>-0.49</td>\n",
       "      <td>...</td>\n",
       "      <td>1</td>\n",
       "      <td>a Passed 1st time</td>\n",
       "      <td>3.0</td>\n",
       "      <td>0.217453</td>\n",
       "      <td>False</td>\n",
       "      <td>False</td>\n",
       "      <td>False</td>\n",
       "      <td>True</td>\n",
       "      <td>white</td>\n",
       "      <td>4</td>\n",
       "    </tr>\n",
       "    <tr>\n",
       "      <th>4</th>\n",
       "      <td>4</td>\n",
       "      <td>8.0</td>\n",
       "      <td>55</td>\n",
       "      <td>9.0</td>\n",
       "      <td>7.0</td>\n",
       "      <td>48.0</td>\n",
       "      <td>3.5</td>\n",
       "      <td>1.02</td>\n",
       "      <td>1</td>\n",
       "      <td>0.76</td>\n",
       "      <td>...</td>\n",
       "      <td>1</td>\n",
       "      <td>a Passed 1st time</td>\n",
       "      <td>5.0</td>\n",
       "      <td>1.144843</td>\n",
       "      <td>False</td>\n",
       "      <td>False</td>\n",
       "      <td>False</td>\n",
       "      <td>True</td>\n",
       "      <td>white</td>\n",
       "      <td>4</td>\n",
       "    </tr>\n",
       "    <tr>\n",
       "      <th>...</th>\n",
       "      <td>...</td>\n",
       "      <td>...</td>\n",
       "      <td>...</td>\n",
       "      <td>...</td>\n",
       "      <td>...</td>\n",
       "      <td>...</td>\n",
       "      <td>...</td>\n",
       "      <td>...</td>\n",
       "      <td>...</td>\n",
       "      <td>...</td>\n",
       "      <td>...</td>\n",
       "      <td>...</td>\n",
       "      <td>...</td>\n",
       "      <td>...</td>\n",
       "      <td>...</td>\n",
       "      <td>...</td>\n",
       "      <td>...</td>\n",
       "      <td>...</td>\n",
       "      <td>...</td>\n",
       "      <td>...</td>\n",
       "      <td>...</td>\n",
       "    </tr>\n",
       "    <tr>\n",
       "      <th>22067</th>\n",
       "      <td>22402</td>\n",
       "      <td>1.0</td>\n",
       "      <td>10695</td>\n",
       "      <td>3.0</td>\n",
       "      <td>3.0</td>\n",
       "      <td>26.5</td>\n",
       "      <td>1.8</td>\n",
       "      <td>-0.58</td>\n",
       "      <td>1</td>\n",
       "      <td>-1.49</td>\n",
       "      <td>...</td>\n",
       "      <td>0</td>\n",
       "      <td>c Failed</td>\n",
       "      <td>1.0</td>\n",
       "      <td>-1.922560</td>\n",
       "      <td>True</td>\n",
       "      <td>False</td>\n",
       "      <td>False</td>\n",
       "      <td>False</td>\n",
       "      <td>black</td>\n",
       "      <td>1</td>\n",
       "    </tr>\n",
       "    <tr>\n",
       "      <th>22068</th>\n",
       "      <td>22403</td>\n",
       "      <td>1.0</td>\n",
       "      <td>19642</td>\n",
       "      <td>3.0</td>\n",
       "      <td>3.0</td>\n",
       "      <td>19.7</td>\n",
       "      <td>1.8</td>\n",
       "      <td>-0.64</td>\n",
       "      <td>1</td>\n",
       "      <td>-1.36</td>\n",
       "      <td>...</td>\n",
       "      <td>0</td>\n",
       "      <td>c Failed</td>\n",
       "      <td>1.0</td>\n",
       "      <td>-2.216261</td>\n",
       "      <td>True</td>\n",
       "      <td>False</td>\n",
       "      <td>False</td>\n",
       "      <td>False</td>\n",
       "      <td>black</td>\n",
       "      <td>1</td>\n",
       "    </tr>\n",
       "    <tr>\n",
       "      <th>22069</th>\n",
       "      <td>22404</td>\n",
       "      <td>8.0</td>\n",
       "      <td>24704</td>\n",
       "      <td>7.0</td>\n",
       "      <td>3.0</td>\n",
       "      <td>36.0</td>\n",
       "      <td>1.8</td>\n",
       "      <td>0.41</td>\n",
       "      <td>1</td>\n",
       "      <td>0.80</td>\n",
       "      <td>...</td>\n",
       "      <td>1</td>\n",
       "      <td>a Passed 1st time</td>\n",
       "      <td>3.0</td>\n",
       "      <td>-0.613914</td>\n",
       "      <td>True</td>\n",
       "      <td>False</td>\n",
       "      <td>False</td>\n",
       "      <td>False</td>\n",
       "      <td>black</td>\n",
       "      <td>1</td>\n",
       "    </tr>\n",
       "    <tr>\n",
       "      <th>22070</th>\n",
       "      <td>22405</td>\n",
       "      <td>10.0</td>\n",
       "      <td>10000</td>\n",
       "      <td>10.0</td>\n",
       "      <td>7.0</td>\n",
       "      <td>44.0</td>\n",
       "      <td>1.5</td>\n",
       "      <td>1.88</td>\n",
       "      <td>1</td>\n",
       "      <td>1.42</td>\n",
       "      <td>...</td>\n",
       "      <td>1</td>\n",
       "      <td>a Passed 1st time</td>\n",
       "      <td>3.0</td>\n",
       "      <td>0.134185</td>\n",
       "      <td>False</td>\n",
       "      <td>False</td>\n",
       "      <td>False</td>\n",
       "      <td>True</td>\n",
       "      <td>white</td>\n",
       "      <td>4</td>\n",
       "    </tr>\n",
       "    <tr>\n",
       "      <th>22071</th>\n",
       "      <td>22406</td>\n",
       "      <td>8.0</td>\n",
       "      <td>10684</td>\n",
       "      <td>9.0</td>\n",
       "      <td>7.0</td>\n",
       "      <td>29.5</td>\n",
       "      <td>1.6</td>\n",
       "      <td>1.10</td>\n",
       "      <td>1</td>\n",
       "      <td>0.81</td>\n",
       "      <td>...</td>\n",
       "      <td>1</td>\n",
       "      <td>a Passed 1st time</td>\n",
       "      <td>1.0</td>\n",
       "      <td>-0.842644</td>\n",
       "      <td>False</td>\n",
       "      <td>False</td>\n",
       "      <td>False</td>\n",
       "      <td>True</td>\n",
       "      <td>white</td>\n",
       "      <td>4</td>\n",
       "    </tr>\n",
       "  </tbody>\n",
       "</table>\n",
       "<p>22072 rows × 28 columns</p>\n",
       "</div>"
      ],
      "text/plain": [
       "       Unnamed: 0  decile3     ID  decile1  race  lsat  ugpa  zfygpa  grad  \\\n",
       "0               0     10.0      2     10.0   7.0  44.0   3.5    1.33     1   \n",
       "1               1      4.0      3      5.0   7.0  29.0   3.5   -0.11     1   \n",
       "2               2      2.0     36      3.0   7.0  36.0   3.5   -0.64     1   \n",
       "3               3      4.0     52      7.0   7.0  39.0   3.5    0.34     1   \n",
       "4               4      8.0     55      9.0   7.0  48.0   3.5    1.02     1   \n",
       "...           ...      ...    ...      ...   ...   ...   ...     ...   ...   \n",
       "22067       22402      1.0  10695      3.0   3.0  26.5   1.8   -0.58     1   \n",
       "22068       22403      1.0  19642      3.0   3.0  19.7   1.8   -0.64     1   \n",
       "22069       22404      8.0  24704      7.0   3.0  36.0   1.8    0.41     1   \n",
       "22070       22405     10.0  10000     10.0   7.0  44.0   1.5    1.88     1   \n",
       "22071       22406      8.0  10684      9.0   7.0  29.5   1.6    1.10     1   \n",
       "\n",
       "       zgpa  ...  pass_bar                bar  tier  academic_career  \\\n",
       "0      1.88  ...         1  a Passed 1st time   4.0         1.341087   \n",
       "1     -0.57  ...         1  a Passed 1st time   2.0        -0.385252   \n",
       "2     -1.12  ...         1  a Passed 1st time   3.0        -0.355093   \n",
       "3     -0.49  ...         1  a Passed 1st time   3.0         0.217453   \n",
       "4      0.76  ...         1  a Passed 1st time   5.0         1.144843   \n",
       "...     ...  ...       ...                ...   ...              ...   \n",
       "22067 -1.49  ...         0           c Failed   1.0        -1.922560   \n",
       "22068 -1.36  ...         0           c Failed   1.0        -2.216261   \n",
       "22069  0.80  ...         1  a Passed 1st time   3.0        -0.613914   \n",
       "22070  1.42  ...         1  a Passed 1st time   3.0         0.134185   \n",
       "22071  0.81  ...         1  a Passed 1st time   1.0        -0.842644   \n",
       "\n",
       "       race1_black  race1_hisp  race1_other race1_white  race1 race1_encoded  \n",
       "0            False       False        False        True  white             4  \n",
       "1            False       False        False        True  white             4  \n",
       "2            False       False        False        True  white             4  \n",
       "3            False       False        False        True  white             4  \n",
       "4            False       False        False        True  white             4  \n",
       "...            ...         ...          ...         ...    ...           ...  \n",
       "22067         True       False        False       False  black             1  \n",
       "22068         True       False        False       False  black             1  \n",
       "22069         True       False        False       False  black             1  \n",
       "22070        False       False        False        True  white             4  \n",
       "22071        False       False        False        True  white             4  \n",
       "\n",
       "[22072 rows x 28 columns]"
      ]
     },
     "execution_count": 109,
     "metadata": {},
     "output_type": "execute_result"
    }
   ],
   "source": [
    "race_enc = LabelEncoder()\n",
    "df['race1_encoded'] = race_enc.fit_transform(df['race1'])\n",
    "df"
   ]
  },
  {
   "cell_type": "code",
   "execution_count": 110,
   "metadata": {},
   "outputs": [
    {
     "data": {
      "text/plain": [
       "decile3            float64\n",
       "decile1            float64\n",
       "pass_bar             int64\n",
       "tier               float64\n",
       "parttime           float64\n",
       "ID                   int64\n",
       "bar1                 int64\n",
       "race1_encoded        int32\n",
       "race1_black           bool\n",
       "academic_career    float64\n",
       "race1_other           bool\n",
       "bar1_yr            float64\n",
       "bar2                 int64\n",
       "race1_hisp            bool\n",
       "zgpa               float64\n",
       "zfygpa             float64\n",
       "bar2_yr            float64\n",
       "lsat               float64\n",
       "Unnamed: 0           int64\n",
       "race1_white           bool\n",
       "fam_inc            float64\n",
       "male               float64\n",
       "grad                 int64\n",
       "ugpa               float64\n",
       "race               float64\n",
       "dtype: object"
      ]
     },
     "execution_count": 110,
     "metadata": {},
     "output_type": "execute_result"
    }
   ],
   "source": [
    "nokeep = ['bar', 'race2', 'race1']\n",
    "keep = list(set(df.columns) - set(nokeep))\n",
    "df = df[keep]\n",
    "df.dtypes"
   ]
  },
  {
   "cell_type": "markdown",
   "metadata": {},
   "source": [
    "# Split Train and Test"
   ]
  },
  {
   "cell_type": "code",
   "execution_count": 111,
   "metadata": {},
   "outputs": [],
   "source": [
    "features = ['male', 'decile1', 'decile3', 'lsat', 'ugpa', 'zfygpa', 'zgpa', 'parttime', 'fam_inc', 'tier', 'race1_black', 'race1_hisp', 'race1_other', 'race1_white', 'race1_encoded']\n",
    "\n",
    "target = 'pass_bar'\n",
    "\n",
    "X_train, X_test, y_train, y_test = train_test_split(df[features], df[target], test_size=0.2, random_state=42)"
   ]
  },
  {
   "cell_type": "code",
   "execution_count": 112,
   "metadata": {},
   "outputs": [],
   "source": [
    "df_train = X_train.copy()\n",
    "df_train[target] = y_train\n",
    "df_test = X_test.copy()\n",
    "df_test[target] = y_test"
   ]
  },
  {
   "cell_type": "markdown",
   "metadata": {},
   "source": [
    "# Apply Techniques to train"
   ]
  },
  {
   "cell_type": "code",
   "execution_count": 113,
   "metadata": {},
   "outputs": [],
   "source": [
    "def compute_individual_weights(df, label_col, protected_attr_col):\n",
    "    # Compute weights for one protected attribute\n",
    "    joint_counts = df.groupby([protected_attr_col, label_col]).size().reset_index(name='joint_count')\n",
    "    attr_counts = df[protected_attr_col].value_counts(normalize=True).reset_index()\n",
    "    attr_counts.columns = [protected_attr_col, 'attr_prob']\n",
    "    label_counts = df[label_col].value_counts(normalize=True).reset_index()\n",
    "    label_counts.columns = [label_col, 'label_prob']\n",
    "\n",
    "    weights_df = joint_counts.merge(attr_counts, on=protected_attr_col)\n",
    "    weights_df = weights_df.merge(label_counts, on=label_col)\n",
    "\n",
    "    weights_df['weight'] = weights_df['attr_prob'] * weights_df['label_prob'] / (weights_df['joint_count'] / len(df))\n",
    "\n",
    "    return weights_df[[protected_attr_col, label_col, 'weight']]\n",
    "\n",
    "def compute_combined_weights(df, label_col, protected_attrs):\n",
    "    df = df.copy()\n",
    "    df['weight'] = 1.0  # Start with neutral weights\n",
    "\n",
    "    for attr in protected_attrs:\n",
    "        w = compute_individual_weights(df, label_col, attr)\n",
    "        w = w.rename(columns={'weight': f'weight_{attr}'})\n",
    "        df = df.merge(w, on=[attr, label_col], how='left')\n",
    "        df['weight'] *= df[f'weight_{attr}']  # Multiply in the new weight\n",
    "\n",
    "    return df\n"
   ]
  },
  {
   "cell_type": "code",
   "execution_count": 114,
   "metadata": {},
   "outputs": [],
   "source": [
    "protected_attributes = ['race1_encoded', 'tier', 'fam_inc']\n",
    "df_train_weighted = compute_combined_weights(df_train, label_col=target, protected_attrs=protected_attributes)"
   ]
  },
  {
   "cell_type": "code",
   "execution_count": 115,
   "metadata": {},
   "outputs": [],
   "source": [
    "X_train_weighted = df_train_weighted[features]\n",
    "y_train_weighted = df_train_weighted[target]"
   ]
  },
  {
   "cell_type": "code",
   "execution_count": 116,
   "metadata": {},
   "outputs": [],
   "source": [
    "from sklearn.model_selection import GridSearchCV\n",
    "from sklearn.metrics import make_scorer, fbeta_score\n",
    "\n",
    "\n",
    "fbeta_scorer = make_scorer(fbeta_score, beta=1.41, pos_label=0)"
   ]
  },
  {
   "cell_type": "code",
   "execution_count": 117,
   "metadata": {},
   "outputs": [
    {
     "name": "stdout",
     "output_type": "stream",
     "text": [
      "Best max_depth: 8\n",
      "Best min_samples_split: 5\n"
     ]
    }
   ],
   "source": [
    "from sklearn.ensemble import RandomForestClassifier\n",
    "from sklearn.model_selection import GridSearchCV\n",
    "\n",
    "param_grid = {\n",
    "    'max_depth': [3, 5, 8, 10, None],\n",
    "    'min_samples_split': [2, 5, 10]\n",
    "}\n",
    "\n",
    "clf = GridSearchCV(\n",
    "    RandomForestClassifier(n_estimators=50, random_state=42, class_weight='balanced', min_samples_leaf=2),\n",
    "    param_grid,\n",
    "    scoring=fbeta_scorer,  \n",
    "    cv=5\n",
    ")\n",
    "clf.fit(X_train_weighted, y_train_weighted)\n",
    "\n",
    "print(\"Best max_depth:\", clf.best_params_['max_depth'])\n",
    "print(\"Best min_samples_split:\", clf.best_params_['min_samples_split'])"
   ]
  },
  {
   "cell_type": "code",
   "execution_count": 118,
   "metadata": {},
   "outputs": [
    {
     "name": "stdout",
     "output_type": "stream",
     "text": [
      "[[ 165   62]\n",
      " [ 683 3505]]\n",
      "              precision    recall  f1-score   support\n",
      "\n",
      "           0       0.19      0.73      0.31       227\n",
      "           1       0.98      0.84      0.90      4188\n",
      "\n",
      "    accuracy                           0.83      4415\n",
      "   macro avg       0.59      0.78      0.61      4415\n",
      "weighted avg       0.94      0.83      0.87      4415\n",
      "\n"
     ]
    }
   ],
   "source": [
    "from sklearn.metrics import classification_report, confusion_matrix\n",
    "\n",
    "\n",
    "rf_best_model = clf.best_estimator_\n",
    "\n",
    "rf_y_pred = rf_best_model.predict(X_test)\n",
    "\n",
    "print(confusion_matrix(y_test, rf_y_pred))\n",
    "print(classification_report(y_test, rf_y_pred))"
   ]
  },
  {
   "cell_type": "markdown",
   "metadata": {},
   "source": [
    "### quantile binning suppression"
   ]
  },
  {
   "cell_type": "code",
   "execution_count": 127,
   "metadata": {},
   "outputs": [],
   "source": [
    "from sklearn.preprocessing import KBinsDiscretizer\n",
    "import pandas as pd\n",
    "\n",
    "def suppress_protected_feature_signals(df, protected_attrs, n_bins=5, strategy='quantile'):\n",
    "    \"\"\"\n",
    "    Apply quantile binning to protected features to reduce their discriminatory power.\n",
    "\n",
    "    Parameters:\n",
    "        df (pd.DataFrame): Input dataset.\n",
    "        protected_attrs (list): List of protected feature names to suppress.\n",
    "        n_bins (int): Number of bins to use for discretization.\n",
    "        strategy (str): Binning strategy ('quantile', 'uniform', etc.).\n",
    "\n",
    "    Returns:\n",
    "        pd.DataFrame: Transformed dataset with binned protected features.\n",
    "    \"\"\"\n",
    "    df_transformed = df.copy()\n",
    "\n",
    "    for feature in protected_attrs:\n",
    "        if pd.api.types.is_numeric_dtype(df_transformed[feature]):\n",
    "            discretizer = KBinsDiscretizer(n_bins=n_bins, encode='ordinal', strategy=strategy)\n",
    "            df_transformed[feature] = discretizer.fit_transform(df_transformed[[feature]])\n",
    "        else:\n",
    "            raise ValueError(f\"Feature '{feature}' must be numeric for binning.\")\n",
    "\n",
    "    return df_transformed\n"
   ]
  },
  {
   "cell_type": "code",
   "execution_count": 128,
   "metadata": {},
   "outputs": [
    {
     "name": "stderr",
     "output_type": "stream",
     "text": [
      "c:\\Users\\annad\\AppData\\Local\\Programs\\Python\\Python311\\Lib\\site-packages\\sklearn\\preprocessing\\_discretization.py:322: UserWarning: Bins whose width are too small (i.e., <= 1e-8) in feature 0 are removed. Consider decreasing the number of bins.\n",
      "  warnings.warn(\n",
      "c:\\Users\\annad\\AppData\\Local\\Programs\\Python\\Python311\\Lib\\site-packages\\sklearn\\preprocessing\\_discretization.py:322: UserWarning: Bins whose width are too small (i.e., <= 1e-8) in feature 0 are removed. Consider decreasing the number of bins.\n",
      "  warnings.warn(\n",
      "c:\\Users\\annad\\AppData\\Local\\Programs\\Python\\Python311\\Lib\\site-packages\\sklearn\\preprocessing\\_discretization.py:322: UserWarning: Bins whose width are too small (i.e., <= 1e-8) in feature 0 are removed. Consider decreasing the number of bins.\n",
      "  warnings.warn(\n"
     ]
    }
   ],
   "source": [
    "protected_attributes = ['race1_encoded', 'tier', 'fam_inc']\n",
    "df_train_transformed = suppress_protected_feature_signals(df_train, protected_attrs=protected_attributes, n_bins=5)"
   ]
  },
  {
   "cell_type": "code",
   "execution_count": 131,
   "metadata": {},
   "outputs": [],
   "source": [
    "X_train_transformed = df_train_transformed[features]\n",
    "y_train_transformed = df_train_transformed[target]"
   ]
  },
  {
   "cell_type": "code",
   "execution_count": 132,
   "metadata": {},
   "outputs": [
    {
     "name": "stdout",
     "output_type": "stream",
     "text": [
      "Best max_depth: 8\n",
      "Best min_samples_split: 5\n"
     ]
    }
   ],
   "source": [
    "param_grid = {\n",
    "    'max_depth': [3, 5, 8, 10, None],\n",
    "    'min_samples_split': [2, 5, 10]\n",
    "}\n",
    "\n",
    "clf_2 = GridSearchCV(\n",
    "    RandomForestClassifier(n_estimators=50, random_state=42, class_weight='balanced', min_samples_leaf=2),\n",
    "    param_grid,\n",
    "    scoring=fbeta_scorer,  \n",
    "    cv=5\n",
    ")\n",
    "clf_2.fit(X_train_transformed, y_train_transformed)\n",
    "\n",
    "print(\"Best max_depth:\", clf_2.best_params_['max_depth'])\n",
    "print(\"Best min_samples_split:\", clf_2.best_params_['min_samples_split'])"
   ]
  },
  {
   "cell_type": "code",
   "execution_count": 133,
   "metadata": {},
   "outputs": [
    {
     "name": "stdout",
     "output_type": "stream",
     "text": [
      "[[ 155   72]\n",
      " [ 551 3637]]\n",
      "              precision    recall  f1-score   support\n",
      "\n",
      "           0       0.22      0.68      0.33       227\n",
      "           1       0.98      0.87      0.92      4188\n",
      "\n",
      "    accuracy                           0.86      4415\n",
      "   macro avg       0.60      0.78      0.63      4415\n",
      "weighted avg       0.94      0.86      0.89      4415\n",
      "\n"
     ]
    }
   ],
   "source": [
    "rf_best_model_2 = clf_2.best_estimator_\n",
    "\n",
    "rf_y_pred_2 = rf_best_model_2.predict(X_test)\n",
    "\n",
    "print(confusion_matrix(y_test, rf_y_pred_2))\n",
    "print(classification_report(y_test, rf_y_pred_2))"
   ]
  },
  {
   "cell_type": "markdown",
   "metadata": {},
   "source": [
    "# Apply techniques to whole dataset"
   ]
  },
  {
   "cell_type": "code",
   "execution_count": 119,
   "metadata": {},
   "outputs": [],
   "source": [
    "def compute_individual_weights(df, label_col, protected_attr_col):\n",
    "    # Compute weights for one protected attribute\n",
    "    joint_counts = df.groupby([protected_attr_col, label_col]).size().reset_index(name='joint_count')\n",
    "    attr_counts = df[protected_attr_col].value_counts(normalize=True).reset_index()\n",
    "    attr_counts.columns = [protected_attr_col, 'attr_prob']\n",
    "    label_counts = df[label_col].value_counts(normalize=True).reset_index()\n",
    "    label_counts.columns = [label_col, 'label_prob']\n",
    "\n",
    "    weights_df = joint_counts.merge(attr_counts, on=protected_attr_col)\n",
    "    weights_df = weights_df.merge(label_counts, on=label_col)\n",
    "\n",
    "    weights_df['weight'] = weights_df['attr_prob'] * weights_df['label_prob'] / (weights_df['joint_count'] / len(df))\n",
    "\n",
    "    return weights_df[[protected_attr_col, label_col, 'weight']]\n",
    "\n",
    "def compute_combined_weights(df, label_col, protected_attrs):\n",
    "    df = df.copy()\n",
    "    df['weight'] = 1.0  # Start with neutral weights\n",
    "\n",
    "    for attr in protected_attrs:\n",
    "        w = compute_individual_weights(df, label_col, attr)\n",
    "        w = w.rename(columns={'weight': f'weight_{attr}'})\n",
    "        df = df.merge(w, on=[attr, label_col], how='left')\n",
    "        df['weight'] *= df[f'weight_{attr}']  # Multiply in the new weight\n",
    "\n",
    "    return df\n"
   ]
  },
  {
   "cell_type": "code",
   "execution_count": 120,
   "metadata": {},
   "outputs": [],
   "source": [
    "protected_attributes = ['race1_encoded', 'tier', 'fam_inc']\n",
    "df_weighted = compute_combined_weights(df, label_col=target, protected_attrs=protected_attributes)\n"
   ]
  },
  {
   "cell_type": "code",
   "execution_count": 121,
   "metadata": {},
   "outputs": [
    {
     "name": "stderr",
     "output_type": "stream",
     "text": [
      "C:\\Users\\annad\\AppData\\Local\\Temp\\ipykernel_11720\\1965024977.py:2: SettingWithCopyWarning: \n",
      "A value is trying to be set on a copy of a slice from a DataFrame.\n",
      "Try using .loc[row_indexer,col_indexer] = value instead\n",
      "\n",
      "See the caveats in the documentation: https://pandas.pydata.org/pandas-docs/stable/user_guide/indexing.html#returning-a-view-versus-a-copy\n",
      "  df['pass_bar_rf_weighted'] = pass_bar_rf_race\n"
     ]
    }
   ],
   "source": [
    "pass_bar_rf_race = rf_best_model.predict(df_weighted[features])\n",
    "df['pass_bar_rf_weighted'] = pass_bar_rf_race"
   ]
  },
  {
   "cell_type": "code",
   "execution_count": 134,
   "metadata": {},
   "outputs": [
    {
     "name": "stderr",
     "output_type": "stream",
     "text": [
      "c:\\Users\\annad\\AppData\\Local\\Programs\\Python\\Python311\\Lib\\site-packages\\sklearn\\preprocessing\\_discretization.py:322: UserWarning: Bins whose width are too small (i.e., <= 1e-8) in feature 0 are removed. Consider decreasing the number of bins.\n",
      "  warnings.warn(\n",
      "c:\\Users\\annad\\AppData\\Local\\Programs\\Python\\Python311\\Lib\\site-packages\\sklearn\\preprocessing\\_discretization.py:322: UserWarning: Bins whose width are too small (i.e., <= 1e-8) in feature 0 are removed. Consider decreasing the number of bins.\n",
      "  warnings.warn(\n",
      "c:\\Users\\annad\\AppData\\Local\\Programs\\Python\\Python311\\Lib\\site-packages\\sklearn\\preprocessing\\_discretization.py:322: UserWarning: Bins whose width are too small (i.e., <= 1e-8) in feature 0 are removed. Consider decreasing the number of bins.\n",
      "  warnings.warn(\n"
     ]
    }
   ],
   "source": [
    "protected_attributes = ['race1_encoded', 'tier', 'fam_inc']\n",
    "df_transformed = suppress_protected_feature_signals(df, protected_attrs=protected_attributes, n_bins=5)"
   ]
  },
  {
   "cell_type": "code",
   "execution_count": 135,
   "metadata": {},
   "outputs": [],
   "source": [
    "pass_bar_rf_2 = rf_best_model_2.predict(df_transformed[features])\n",
    "df['pass_bar_rf_transformed'] = pass_bar_rf_2"
   ]
  },
  {
   "cell_type": "markdown",
   "metadata": {},
   "source": [
    "# Check for bias"
   ]
  },
  {
   "cell_type": "code",
   "execution_count": 122,
   "metadata": {},
   "outputs": [
    {
     "name": "stderr",
     "output_type": "stream",
     "text": [
      "C:\\Users\\annad\\AppData\\Local\\Temp\\ipykernel_11720\\1558422169.py:2: SettingWithCopyWarning: \n",
      "A value is trying to be set on a copy of a slice from a DataFrame.\n",
      "Try using .loc[row_indexer,col_indexer] = value instead\n",
      "\n",
      "See the caveats in the documentation: https://pandas.pydata.org/pandas-docs/stable/user_guide/indexing.html#returning-a-view-versus-a-copy\n",
      "  df['race1'] = df_copied['race1']\n"
     ]
    },
    {
     "data": {
      "text/plain": [
       "array(['white', 'hisp', 'asian', 'black', 'other'], dtype=object)"
      ]
     },
     "execution_count": 122,
     "metadata": {},
     "output_type": "execute_result"
    }
   ],
   "source": [
    "df_clean = df.dropna().copy()\n",
    "df['race1'] = df_copied['race1']\n",
    "df[\"race1\"].unique()"
   ]
  },
  {
   "cell_type": "code",
   "execution_count": 123,
   "metadata": {},
   "outputs": [],
   "source": [
    "race_groups = ['black', 'hisp', 'asian', 'other']\n",
    "results = {}\n",
    "\n",
    "df_clean['race1'] = df['race1'].str.lower().str.strip()\n",
    "\n",
    "for group in race_groups:\n",
    "    df_temp = df_clean[df_clean['race1'].isin(['white', group])].copy()\n",
    "    df_temp['race_bin'] = df_temp['race1'].apply(lambda x: 1 if x == 'white' else 0)\n",
    "\n",
    "    df_numeric = df_temp.select_dtypes(include=[np.number])\n",
    "    for col in ['pass_bar_rf_weighted', 'race_bin']:\n",
    "        if col not in df_numeric.columns:\n",
    "            df_numeric[col] = df_temp[col]\n",
    "\n",
    "    df_numeric = df_numeric.dropna(subset=['pass_bar_rf_weighted', 'race_bin'])\n",
    "\n",
    "    if df_numeric['race_bin'].nunique() < 2:\n",
    "        print(f\"Skipping group {group} — only one race_bin present\")\n",
    "        continue\n",
    "\n",
    "    dataset = BinaryLabelDataset(\n",
    "        favorable_label=1,\n",
    "        unfavorable_label=0,\n",
    "        df=df_numeric,\n",
    "        label_names=['pass_bar_rf_weighted'],\n",
    "        protected_attribute_names=['race_bin']\n",
    "    )\n",
    "\n",
    "    metric = BinaryLabelDatasetMetric(\n",
    "        dataset,\n",
    "        privileged_groups=[{'race_bin': 1}],  # white\n",
    "        unprivileged_groups=[{'race_bin': 0}]  # current group\n",
    "    )\n",
    "\n",
    "    results[group] = {\n",
    "        'Disparate Impact': metric.disparate_impact(),\n",
    "        'Statistical Parity Difference': metric.statistical_parity_difference()\n",
    "    }"
   ]
  },
  {
   "cell_type": "code",
   "execution_count": 124,
   "metadata": {},
   "outputs": [
    {
     "name": "stderr",
     "output_type": "stream",
     "text": [
      "C:\\Users\\annad\\AppData\\Local\\Temp\\ipykernel_11720\\262870205.py:7: FutureWarning: \n",
      "\n",
      "Passing `palette` without assigning `hue` is deprecated and will be removed in v0.14.0. Assign the `x` variable to `hue` and set `legend=False` for the same effect.\n",
      "\n",
      "  sns.barplot(data=results_df, x='Race', y='Disparate Impact', palette='muted')\n",
      "c:\\Users\\annad\\AppData\\Local\\Programs\\Python\\Python311\\Lib\\site-packages\\seaborn\\_base.py:948: FutureWarning: When grouping with a length-1 list-like, you will need to pass a length-1 tuple to get_group in a future version of pandas. Pass `(name,)` instead of `name` to silence this warning.\n",
      "  data_subset = grouped_data.get_group(pd_key)\n",
      "c:\\Users\\annad\\AppData\\Local\\Programs\\Python\\Python311\\Lib\\site-packages\\seaborn\\_base.py:948: FutureWarning: When grouping with a length-1 list-like, you will need to pass a length-1 tuple to get_group in a future version of pandas. Pass `(name,)` instead of `name` to silence this warning.\n",
      "  data_subset = grouped_data.get_group(pd_key)\n",
      "c:\\Users\\annad\\AppData\\Local\\Programs\\Python\\Python311\\Lib\\site-packages\\seaborn\\_base.py:948: FutureWarning: When grouping with a length-1 list-like, you will need to pass a length-1 tuple to get_group in a future version of pandas. Pass `(name,)` instead of `name` to silence this warning.\n",
      "  data_subset = grouped_data.get_group(pd_key)\n",
      "c:\\Users\\annad\\AppData\\Local\\Programs\\Python\\Python311\\Lib\\site-packages\\seaborn\\_base.py:948: FutureWarning: When grouping with a length-1 list-like, you will need to pass a length-1 tuple to get_group in a future version of pandas. Pass `(name,)` instead of `name` to silence this warning.\n",
      "  data_subset = grouped_data.get_group(pd_key)\n"
     ]
    },
    {
     "data": {
      "image/png": "[encoded data removed]",
      "text/plain": [
       "<Figure size 1000x500 with 1 Axes>"
      ]
     },
     "metadata": {},
     "output_type": "display_data"
    }
   ],
   "source": [
    "import matplotlib.pyplot as plt\n",
    "import seaborn as sns\n",
    "\n",
    "results_df = pd.DataFrame(results).T.reset_index().rename(columns={'index': 'Race'})\n",
    "\n",
    "plt.figure(figsize=(10, 5))\n",
    "sns.barplot(data=results_df, x='Race', y='Disparate Impact', palette='muted')\n",
    "plt.axhline(1.0, linestyle='--', color='black')\n",
    "plt.title(\"Disparate Impact by Race Group (Compared to White)\")\n",
    "plt.ylabel(\"Disparate Impact\")\n",
    "plt.xlabel(\"Race Group\")\n",
    "\n",
    "for idx, row in results_df.iterrows():\n",
    "    plt.text(idx, row['Disparate Impact'] + 0.01, f\"{row['Disparate Impact']:.2f}\", ha='center')\n",
    "\n",
    "plt.tight_layout()\n",
    "plt.show()\n"
   ]
  },
  {
   "cell_type": "code",
   "execution_count": 125,
   "metadata": {},
   "outputs": [
    {
     "name": "stderr",
     "output_type": "stream",
     "text": [
      "C:\\Users\\annad\\AppData\\Local\\Temp\\ipykernel_11720\\554246687.py:44: FutureWarning: \n",
      "\n",
      "Passing `palette` without assigning `hue` is deprecated and will be removed in v0.14.0. Assign the `x` variable to `hue` and set `legend=False` for the same effect.\n",
      "\n",
      "  sns.barplot(data=results_df, x='Income Group', y='Disparate Impact', palette='crest')\n",
      "c:\\Users\\annad\\AppData\\Local\\Programs\\Python\\Python311\\Lib\\site-packages\\seaborn\\_base.py:948: FutureWarning: When grouping with a length-1 list-like, you will need to pass a length-1 tuple to get_group in a future version of pandas. Pass `(name,)` instead of `name` to silence this warning.\n",
      "  data_subset = grouped_data.get_group(pd_key)\n",
      "c:\\Users\\annad\\AppData\\Local\\Programs\\Python\\Python311\\Lib\\site-packages\\seaborn\\_base.py:948: FutureWarning: When grouping with a length-1 list-like, you will need to pass a length-1 tuple to get_group in a future version of pandas. Pass `(name,)` instead of `name` to silence this warning.\n",
      "  data_subset = grouped_data.get_group(pd_key)\n",
      "c:\\Users\\annad\\AppData\\Local\\Programs\\Python\\Python311\\Lib\\site-packages\\seaborn\\_base.py:948: FutureWarning: When grouping with a length-1 list-like, you will need to pass a length-1 tuple to get_group in a future version of pandas. Pass `(name,)` instead of `name` to silence this warning.\n",
      "  data_subset = grouped_data.get_group(pd_key)\n",
      "c:\\Users\\annad\\AppData\\Local\\Programs\\Python\\Python311\\Lib\\site-packages\\seaborn\\_base.py:948: FutureWarning: When grouping with a length-1 list-like, you will need to pass a length-1 tuple to get_group in a future version of pandas. Pass `(name,)` instead of `name` to silence this warning.\n",
      "  data_subset = grouped_data.get_group(pd_key)\n"
     ]
    },
    {
     "data": {
      "image/png": "[encoded data removed]",
      "text/plain": [
       "<Figure size 1000x500 with 1 Axes>"
      ]
     },
     "metadata": {},
     "output_type": "display_data"
    }
   ],
   "source": [
    "income_groups = [1.0, 2.0, 3.0, 4.0]\n",
    "results = {}\n",
    "\n",
    "df_clean = df_clean.dropna(subset=['fam_inc'])\n",
    "\n",
    "for group in income_groups:\n",
    "    df_temp = df_clean[df_clean['fam_inc'].isin([5.0, group])].copy()\n",
    "    df_temp['income_bin'] = df_temp['fam_inc'].apply(lambda x: 1 if x == 5.0 else 0)\n",
    "\n",
    "    df_numeric = df_temp.select_dtypes(include=[np.number])\n",
    "    for col in ['pass_bar_rf_weighted', 'income_bin']:\n",
    "        if col not in df_numeric.columns:\n",
    "            df_numeric[col] = df_temp[col]\n",
    "\n",
    "    df_numeric = df_numeric.dropna(subset=['pass_bar_rf_weighted', 'income_bin'])\n",
    "\n",
    "    if df_numeric['income_bin'].nunique() < 2:\n",
    "        print(f\"Skipping income group {group} — only one group present\")\n",
    "        continue\n",
    "\n",
    "    dataset = BinaryLabelDataset(\n",
    "        favorable_label=1,\n",
    "        unfavorable_label=0,\n",
    "        df=df_numeric,\n",
    "        label_names=['pass_bar_rf_weighted'],\n",
    "        protected_attribute_names=['income_bin']\n",
    "    )\n",
    "\n",
    "    metric = BinaryLabelDatasetMetric(\n",
    "        dataset,\n",
    "        privileged_groups=[{'income_bin': 1}],  # high income (5)\n",
    "        unprivileged_groups=[{'income_bin': 0}]  # current group\n",
    "    )\n",
    "\n",
    "    results[int(group)] = {\n",
    "        'Disparate Impact': metric.disparate_impact(),\n",
    "        'Statistical Parity Difference': metric.statistical_parity_difference()\n",
    "    }\n",
    "\n",
    "results_df = pd.DataFrame(results).T.reset_index().rename(columns={'index': 'Income Group'})\n",
    "results_df = results_df.sort_values(by='Income Group')\n",
    "\n",
    "plt.figure(figsize=(10, 5))\n",
    "sns.barplot(data=results_df, x='Income Group', y='Disparate Impact', palette='crest')\n",
    "plt.axhline(1.0, linestyle='--', color='black')\n",
    "plt.title(\"Disparate Impact by Family Income Group (Compared to Group 5)\")\n",
    "plt.ylabel(\"Disparate Impact\")\n",
    "plt.xlabel(\"Family Income Group\")\n",
    "\n",
    "for idx, row in results_df.iterrows():\n",
    "    plt.text(idx, row['Disparate Impact'] + 0.01, f\"{row['Disparate Impact']:.2f}\", ha='center')\n",
    "\n",
    "plt.tight_layout()\n",
    "plt.show()\n",
    "\n",
    "\n"
   ]
  },
  {
   "cell_type": "code",
   "execution_count": 126,
   "metadata": {},
   "outputs": [
    {
     "name": "stderr",
     "output_type": "stream",
     "text": [
      "C:\\Users\\annad\\AppData\\Local\\Temp\\ipykernel_11720\\3642827210.py:44: FutureWarning: \n",
      "\n",
      "Passing `palette` without assigning `hue` is deprecated and will be removed in v0.14.0. Assign the `x` variable to `hue` and set `legend=False` for the same effect.\n",
      "\n",
      "  sns.barplot(data=results_df, x='Tier', y='Disparate Impact', palette='crest')\n",
      "c:\\Users\\annad\\AppData\\Local\\Programs\\Python\\Python311\\Lib\\site-packages\\seaborn\\_base.py:948: FutureWarning: When grouping with a length-1 list-like, you will need to pass a length-1 tuple to get_group in a future version of pandas. Pass `(name,)` instead of `name` to silence this warning.\n",
      "  data_subset = grouped_data.get_group(pd_key)\n",
      "c:\\Users\\annad\\AppData\\Local\\Programs\\Python\\Python311\\Lib\\site-packages\\seaborn\\_base.py:948: FutureWarning: When grouping with a length-1 list-like, you will need to pass a length-1 tuple to get_group in a future version of pandas. Pass `(name,)` instead of `name` to silence this warning.\n",
      "  data_subset = grouped_data.get_group(pd_key)\n",
      "c:\\Users\\annad\\AppData\\Local\\Programs\\Python\\Python311\\Lib\\site-packages\\seaborn\\_base.py:948: FutureWarning: When grouping with a length-1 list-like, you will need to pass a length-1 tuple to get_group in a future version of pandas. Pass `(name,)` instead of `name` to silence this warning.\n",
      "  data_subset = grouped_data.get_group(pd_key)\n",
      "c:\\Users\\annad\\AppData\\Local\\Programs\\Python\\Python311\\Lib\\site-packages\\seaborn\\_base.py:948: FutureWarning: When grouping with a length-1 list-like, you will need to pass a length-1 tuple to get_group in a future version of pandas. Pass `(name,)` instead of `name` to silence this warning.\n",
      "  data_subset = grouped_data.get_group(pd_key)\n",
      "c:\\Users\\annad\\AppData\\Local\\Programs\\Python\\Python311\\Lib\\site-packages\\seaborn\\_base.py:948: FutureWarning: When grouping with a length-1 list-like, you will need to pass a length-1 tuple to get_group in a future version of pandas. Pass `(name,)` instead of `name` to silence this warning.\n",
      "  data_subset = grouped_data.get_group(pd_key)\n"
     ]
    },
    {
     "data": {
      "image/png": "[encoded data removed]",
      "text/plain": [
       "<Figure size 1000x500 with 1 Axes>"
      ]
     },
     "metadata": {},
     "output_type": "display_data"
    }
   ],
   "source": [
    "tier_groups = [1.0, 2.0, 3.0, 4.0, 5.0]\n",
    "results = {}\n",
    "\n",
    "df_clean = df_clean.dropna(subset=['tier'])\n",
    "\n",
    "for group in tier_groups:\n",
    "    df_temp = df_clean[df_clean['tier'].isin([6.0, group])].copy()\n",
    "    df_temp['tier_bin'] = df_temp['tier'].apply(lambda x: 1 if x == 6.0 else 0)\n",
    "\n",
    "    df_numeric = df_temp.select_dtypes(include=[np.number])\n",
    "    for col in ['pass_bar_rf_weighted', 'tier_bin']:\n",
    "        if col not in df_numeric.columns:\n",
    "            df_numeric[col] = df_temp[col]\n",
    "\n",
    "    df_numeric = df_numeric.dropna(subset=['pass_bar_rf_weighted', 'tier_bin'])\n",
    "\n",
    "    if df_numeric['tier_bin'].nunique() < 2:\n",
    "        print(f\"Skipping tier group {group} — only one group present\")\n",
    "        continue\n",
    "\n",
    "    dataset = BinaryLabelDataset(\n",
    "        favorable_label=1,\n",
    "        unfavorable_label=0,\n",
    "        df=df_numeric,\n",
    "        label_names=['pass_bar_rf_weighted'],\n",
    "        protected_attribute_names=['tier_bin']\n",
    "    )\n",
    "\n",
    "    metric = BinaryLabelDatasetMetric(\n",
    "        dataset,\n",
    "        privileged_groups=[{'tier_bin': 1}],   # Tier 6 (privileged)\n",
    "        unprivileged_groups=[{'tier_bin': 0}]  # Current tier (1–5)\n",
    "    )\n",
    "\n",
    "    results[int(group)] = {\n",
    "        'Disparate Impact': metric.disparate_impact(),\n",
    "        'Statistical Parity Difference': metric.statistical_parity_difference()\n",
    "    }\n",
    "\n",
    "results_df = pd.DataFrame(results).T.reset_index().rename(columns={'index': 'Tier'})\n",
    "results_df = results_df.sort_values(by='Tier')\n",
    "\n",
    "plt.figure(figsize=(10, 5))\n",
    "sns.barplot(data=results_df, x='Tier', y='Disparate Impact', palette='crest')\n",
    "plt.axhline(1.0, linestyle='--', color='black')\n",
    "plt.title(\"Disparate Impact by Law School Tier (Compared to Tier 6)\")\n",
    "plt.ylabel(\"Disparate Impact\")\n",
    "plt.xlabel(\"Law School Tier\")\n",
    "\n",
    "for idx, row in results_df.iterrows():\n",
    "    plt.text(idx, row['Disparate Impact'] + 0.01, f\"{row['Disparate Impact']:.2f}\", ha='center')\n",
    "\n",
    "plt.tight_layout()\n",
    "plt.show()\n"
   ]
  },
  {
   "cell_type": "markdown",
   "metadata": {},
   "source": [
    "### Second technique bias"
   ]
  },
  {
   "cell_type": "code",
   "execution_count": 136,
   "metadata": {},
   "outputs": [
    {
     "data": {
      "text/plain": [
       "array(['white', 'hisp', 'asian', 'black', 'other'], dtype=object)"
      ]
     },
     "execution_count": 136,
     "metadata": {},
     "output_type": "execute_result"
    }
   ],
   "source": [
    "df_clean = df.dropna().copy()\n",
    "df['race1'] = df_copied['race1']\n",
    "df[\"race1\"].unique()"
   ]
  },
  {
   "cell_type": "code",
   "execution_count": 137,
   "metadata": {},
   "outputs": [],
   "source": [
    "race_groups = ['black', 'hisp', 'asian', 'other']\n",
    "results = {}\n",
    "\n",
    "df_clean['race1'] = df['race1'].str.lower().str.strip()\n",
    "\n",
    "for group in race_groups:\n",
    "    df_temp = df_clean[df_clean['race1'].isin(['white', group])].copy()\n",
    "    df_temp['race_bin'] = df_temp['race1'].apply(lambda x: 1 if x == 'white' else 0)\n",
    "\n",
    "    df_numeric = df_temp.select_dtypes(include=[np.number])\n",
    "    for col in ['pass_bar_rf_transformed', 'race_bin']:\n",
    "        if col not in df_numeric.columns:\n",
    "            df_numeric[col] = df_temp[col]\n",
    "\n",
    "    df_numeric = df_numeric.dropna(subset=['pass_bar_rf_transformed', 'race_bin'])\n",
    "\n",
    "    if df_numeric['race_bin'].nunique() < 2:\n",
    "        print(f\"Skipping group {group} — only one race_bin present\")\n",
    "        continue\n",
    "\n",
    "    dataset = BinaryLabelDataset(\n",
    "        favorable_label=1,\n",
    "        unfavorable_label=0,\n",
    "        df=df_numeric,\n",
    "        label_names=['pass_bar_rf_transformed'],\n",
    "        protected_attribute_names=['race_bin']\n",
    "    )\n",
    "\n",
    "    metric = BinaryLabelDatasetMetric(\n",
    "        dataset,\n",
    "        privileged_groups=[{'race_bin': 1}],  # white\n",
    "        unprivileged_groups=[{'race_bin': 0}]  # current group\n",
    "    )\n",
    "\n",
    "    results[group] = {\n",
    "        'Disparate Impact': metric.disparate_impact(),\n",
    "        'Statistical Parity Difference': metric.statistical_parity_difference()\n",
    "    }"
   ]
  },
  {
   "cell_type": "code",
   "execution_count": 138,
   "metadata": {},
   "outputs": [
    {
     "name": "stderr",
     "output_type": "stream",
     "text": [
      "C:\\Users\\annad\\AppData\\Local\\Temp\\ipykernel_11720\\262870205.py:7: FutureWarning: \n",
      "\n",
      "Passing `palette` without assigning `hue` is deprecated and will be removed in v0.14.0. Assign the `x` variable to `hue` and set `legend=False` for the same effect.\n",
      "\n",
      "  sns.barplot(data=results_df, x='Race', y='Disparate Impact', palette='muted')\n",
      "c:\\Users\\annad\\AppData\\Local\\Programs\\Python\\Python311\\Lib\\site-packages\\seaborn\\_base.py:948: FutureWarning: When grouping with a length-1 list-like, you will need to pass a length-1 tuple to get_group in a future version of pandas. Pass `(name,)` instead of `name` to silence this warning.\n",
      "  data_subset = grouped_data.get_group(pd_key)\n",
      "c:\\Users\\annad\\AppData\\Local\\Programs\\Python\\Python311\\Lib\\site-packages\\seaborn\\_base.py:948: FutureWarning: When grouping with a length-1 list-like, you will need to pass a length-1 tuple to get_group in a future version of pandas. Pass `(name,)` instead of `name` to silence this warning.\n",
      "  data_subset = grouped_data.get_group(pd_key)\n",
      "c:\\Users\\annad\\AppData\\Local\\Programs\\Python\\Python311\\Lib\\site-packages\\seaborn\\_base.py:948: FutureWarning: When grouping with a length-1 list-like, you will need to pass a length-1 tuple to get_group in a future version of pandas. Pass `(name,)` instead of `name` to silence this warning.\n",
      "  data_subset = grouped_data.get_group(pd_key)\n",
      "c:\\Users\\annad\\AppData\\Local\\Programs\\Python\\Python311\\Lib\\site-packages\\seaborn\\_base.py:948: FutureWarning: When grouping with a length-1 list-like, you will need to pass a length-1 tuple to get_group in a future version of pandas. Pass `(name,)` instead of `name` to silence this warning.\n",
      "  data_subset = grouped_data.get_group(pd_key)\n"
     ]
    },
    {
     "data": {
      "image/png": "[encoded data removed]",
      "text/plain": [
       "<Figure size 1000x500 with 1 Axes>"
      ]
     },
     "metadata": {},
     "output_type": "display_data"
    }
   ],
   "source": [
    "import matplotlib.pyplot as plt\n",
    "import seaborn as sns\n",
    "\n",
    "results_df = pd.DataFrame(results).T.reset_index().rename(columns={'index': 'Race'})\n",
    "\n",
    "plt.figure(figsize=(10, 5))\n",
    "sns.barplot(data=results_df, x='Race', y='Disparate Impact', palette='muted')\n",
    "plt.axhline(1.0, linestyle='--', color='black')\n",
    "plt.title(\"Disparate Impact by Race Group (Compared to White)\")\n",
    "plt.ylabel(\"Disparate Impact\")\n",
    "plt.xlabel(\"Race Group\")\n",
    "\n",
    "for idx, row in results_df.iterrows():\n",
    "    plt.text(idx, row['Disparate Impact'] + 0.01, f\"{row['Disparate Impact']:.2f}\", ha='center')\n",
    "\n",
    "plt.tight_layout()\n",
    "plt.show()\n"
   ]
  },
  {
   "cell_type": "code",
   "execution_count": 139,
   "metadata": {},
   "outputs": [
    {
     "name": "stderr",
     "output_type": "stream",
     "text": [
      "C:\\Users\\annad\\AppData\\Local\\Temp\\ipykernel_11720\\4207203915.py:44: FutureWarning: \n",
      "\n",
      "Passing `palette` without assigning `hue` is deprecated and will be removed in v0.14.0. Assign the `x` variable to `hue` and set `legend=False` for the same effect.\n",
      "\n",
      "  sns.barplot(data=results_df, x='Income Group', y='Disparate Impact', palette='crest')\n",
      "c:\\Users\\annad\\AppData\\Local\\Programs\\Python\\Python311\\Lib\\site-packages\\seaborn\\_base.py:948: FutureWarning: When grouping with a length-1 list-like, you will need to pass a length-1 tuple to get_group in a future version of pandas. Pass `(name,)` instead of `name` to silence this warning.\n",
      "  data_subset = grouped_data.get_group(pd_key)\n",
      "c:\\Users\\annad\\AppData\\Local\\Programs\\Python\\Python311\\Lib\\site-packages\\seaborn\\_base.py:948: FutureWarning: When grouping with a length-1 list-like, you will need to pass a length-1 tuple to get_group in a future version of pandas. Pass `(name,)` instead of `name` to silence this warning.\n",
      "  data_subset = grouped_data.get_group(pd_key)\n",
      "c:\\Users\\annad\\AppData\\Local\\Programs\\Python\\Python311\\Lib\\site-packages\\seaborn\\_base.py:948: FutureWarning: When grouping with a length-1 list-like, you will need to pass a length-1 tuple to get_group in a future version of pandas. Pass `(name,)` instead of `name` to silence this warning.\n",
      "  data_subset = grouped_data.get_group(pd_key)\n",
      "c:\\Users\\annad\\AppData\\Local\\Programs\\Python\\Python311\\Lib\\site-packages\\seaborn\\_base.py:948: FutureWarning: When grouping with a length-1 list-like, you will need to pass a length-1 tuple to get_group in a future version of pandas. Pass `(name,)` instead of `name` to silence this warning.\n",
      "  data_subset = grouped_data.get_group(pd_key)\n"
     ]
    },
    {
     "data": {
      "image/png": "[encoded data removed]",
      "text/plain": [
       "<Figure size 1000x500 with 1 Axes>"
      ]
     },
     "metadata": {},
     "output_type": "display_data"
    }
   ],
   "source": [
    "income_groups = [1.0, 2.0, 3.0, 4.0]\n",
    "results = {}\n",
    "\n",
    "df_clean = df_clean.dropna(subset=['fam_inc'])\n",
    "\n",
    "for group in income_groups:\n",
    "    df_temp = df_clean[df_clean['fam_inc'].isin([5.0, group])].copy()\n",
    "    df_temp['income_bin'] = df_temp['fam_inc'].apply(lambda x: 1 if x == 5.0 else 0)\n",
    "\n",
    "    df_numeric = df_temp.select_dtypes(include=[np.number])\n",
    "    for col in ['pass_bar_rf_transformed', 'income_bin']:\n",
    "        if col not in df_numeric.columns:\n",
    "            df_numeric[col] = df_temp[col]\n",
    "\n",
    "    df_numeric = df_numeric.dropna(subset=['pass_bar_rf_transformed', 'income_bin'])\n",
    "\n",
    "    if df_numeric['income_bin'].nunique() < 2:\n",
    "        print(f\"Skipping income group {group} — only one group present\")\n",
    "        continue\n",
    "\n",
    "    dataset = BinaryLabelDataset(\n",
    "        favorable_label=1,\n",
    "        unfavorable_label=0,\n",
    "        df=df_numeric,\n",
    "        label_names=['pass_bar_rf_transformed'],\n",
    "        protected_attribute_names=['income_bin']\n",
    "    )\n",
    "\n",
    "    metric = BinaryLabelDatasetMetric(\n",
    "        dataset,\n",
    "        privileged_groups=[{'income_bin': 1}],  # high income (5)\n",
    "        unprivileged_groups=[{'income_bin': 0}]  # current group\n",
    "    )\n",
    "\n",
    "    results[int(group)] = {\n",
    "        'Disparate Impact': metric.disparate_impact(),\n",
    "        'Statistical Parity Difference': metric.statistical_parity_difference()\n",
    "    }\n",
    "\n",
    "results_df = pd.DataFrame(results).T.reset_index().rename(columns={'index': 'Income Group'})\n",
    "results_df = results_df.sort_values(by='Income Group')\n",
    "\n",
    "plt.figure(figsize=(10, 5))\n",
    "sns.barplot(data=results_df, x='Income Group', y='Disparate Impact', palette='crest')\n",
    "plt.axhline(1.0, linestyle='--', color='black')\n",
    "plt.title(\"Disparate Impact by Family Income Group (Compared to Group 5)\")\n",
    "plt.ylabel(\"Disparate Impact\")\n",
    "plt.xlabel(\"Family Income Group\")\n",
    "\n",
    "for idx, row in results_df.iterrows():\n",
    "    plt.text(idx, row['Disparate Impact'] + 0.01, f\"{row['Disparate Impact']:.2f}\", ha='center')\n",
    "\n",
    "plt.tight_layout()\n",
    "plt.show()\n",
    "\n",
    "\n"
   ]
  },
  {
   "cell_type": "code",
   "execution_count": 140,
   "metadata": {},
   "outputs": [
    {
     "name": "stderr",
     "output_type": "stream",
     "text": [
      "C:\\Users\\annad\\AppData\\Local\\Temp\\ipykernel_11720\\2530438369.py:44: FutureWarning: \n",
      "\n",
      "Passing `palette` without assigning `hue` is deprecated and will be removed in v0.14.0. Assign the `x` variable to `hue` and set `legend=False` for the same effect.\n",
      "\n",
      "  sns.barplot(data=results_df, x='Tier', y='Disparate Impact', palette='crest')\n",
      "c:\\Users\\annad\\AppData\\Local\\Programs\\Python\\Python311\\Lib\\site-packages\\seaborn\\_base.py:948: FutureWarning: When grouping with a length-1 list-like, you will need to pass a length-1 tuple to get_group in a future version of pandas. Pass `(name,)` instead of `name` to silence this warning.\n",
      "  data_subset = grouped_data.get_group(pd_key)\n",
      "c:\\Users\\annad\\AppData\\Local\\Programs\\Python\\Python311\\Lib\\site-packages\\seaborn\\_base.py:948: FutureWarning: When grouping with a length-1 list-like, you will need to pass a length-1 tuple to get_group in a future version of pandas. Pass `(name,)` instead of `name` to silence this warning.\n",
      "  data_subset = grouped_data.get_group(pd_key)\n",
      "c:\\Users\\annad\\AppData\\Local\\Programs\\Python\\Python311\\Lib\\site-packages\\seaborn\\_base.py:948: FutureWarning: When grouping with a length-1 list-like, you will need to pass a length-1 tuple to get_group in a future version of pandas. Pass `(name,)` instead of `name` to silence this warning.\n",
      "  data_subset = grouped_data.get_group(pd_key)\n",
      "c:\\Users\\annad\\AppData\\Local\\Programs\\Python\\Python311\\Lib\\site-packages\\seaborn\\_base.py:948: FutureWarning: When grouping with a length-1 list-like, you will need to pass a length-1 tuple to get_group in a future version of pandas. Pass `(name,)` instead of `name` to silence this warning.\n",
      "  data_subset = grouped_data.get_group(pd_key)\n",
      "c:\\Users\\annad\\AppData\\Local\\Programs\\Python\\Python311\\Lib\\site-packages\\seaborn\\_base.py:948: FutureWarning: When grouping with a length-1 list-like, you will need to pass a length-1 tuple to get_group in a future version of pandas. Pass `(name,)` instead of `name` to silence this warning.\n",
      "  data_subset = grouped_data.get_group(pd_key)\n"
     ]
    },
    {
     "data": {
      "image/png": "[encoded data removed]",
      "text/plain": [
       "<Figure size 1000x500 with 1 Axes>"
      ]
     },
     "metadata": {},
     "output_type": "display_data"
    }
   ],
   "source": [
    "tier_groups = [1.0, 2.0, 3.0, 4.0, 5.0]\n",
    "results = {}\n",
    "\n",
    "df_clean = df_clean.dropna(subset=['tier'])\n",
    "\n",
    "for group in tier_groups:\n",
    "    df_temp = df_clean[df_clean['tier'].isin([6.0, group])].copy()\n",
    "    df_temp['tier_bin'] = df_temp['tier'].apply(lambda x: 1 if x == 6.0 else 0)\n",
    "\n",
    "    df_numeric = df_temp.select_dtypes(include=[np.number])\n",
    "    for col in ['pass_bar_rf_transformed', 'tier_bin']:\n",
    "        if col not in df_numeric.columns:\n",
    "            df_numeric[col] = df_temp[col]\n",
    "\n",
    "    df_numeric = df_numeric.dropna(subset=['pass_bar_rf_transformed', 'tier_bin'])\n",
    "\n",
    "    if df_numeric['tier_bin'].nunique() < 2:\n",
    "        print(f\"Skipping tier group {group} — only one group present\")\n",
    "        continue\n",
    "\n",
    "    dataset = BinaryLabelDataset(\n",
    "        favorable_label=1,\n",
    "        unfavorable_label=0,\n",
    "        df=df_numeric,\n",
    "        label_names=['pass_bar_rf_transformed'],\n",
    "        protected_attribute_names=['tier_bin']\n",
    "    )\n",
    "\n",
    "    metric = BinaryLabelDatasetMetric(\n",
    "        dataset,\n",
    "        privileged_groups=[{'tier_bin': 1}],   # Tier 6 (privileged)\n",
    "        unprivileged_groups=[{'tier_bin': 0}]  # Current tier (1–5)\n",
    "    )\n",
    "\n",
    "    results[int(group)] = {\n",
    "        'Disparate Impact': metric.disparate_impact(),\n",
    "        'Statistical Parity Difference': metric.statistical_parity_difference()\n",
    "    }\n",
    "\n",
    "results_df = pd.DataFrame(results).T.reset_index().rename(columns={'index': 'Tier'})\n",
    "results_df = results_df.sort_values(by='Tier')\n",
    "\n",
    "plt.figure(figsize=(10, 5))\n",
    "sns.barplot(data=results_df, x='Tier', y='Disparate Impact', palette='crest')\n",
    "plt.axhline(1.0, linestyle='--', color='black')\n",
    "plt.title(\"Disparate Impact by Law School Tier (Compared to Tier 6)\")\n",
    "plt.ylabel(\"Disparate Impact\")\n",
    "plt.xlabel(\"Law School Tier\")\n",
    "\n",
    "for idx, row in results_df.iterrows():\n",
    "    plt.text(idx, row['Disparate Impact'] + 0.01, f\"{row['Disparate Impact']:.2f}\", ha='center')\n",
    "\n",
    "plt.tight_layout()\n",
    "plt.show()\n"
   ]
  },
  {
   "cell_type": "markdown",
   "metadata": {},
   "source": []
  }
 ],
 "metadata": {
  "kernelspec": {
   "display_name": "Python 3",
   "language": "python",
   "name": "python3"
  },
  "language_info": {
   "codemirror_mode": {
    "name": "ipython",
    "version": 3
   },
   "file_extension": ".py",
   "mimetype": "text/x-python",
   "name": "python",
   "nbconvert_exporter": "python",
   "pygments_lexer": "ipython3",
   "version": "3.11.5"
  }
 },
 "nbformat": 4,
 "nbformat_minor": 2
}
